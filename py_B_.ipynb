{
  "nbformat": 4,
  "nbformat_minor": 0,
  "metadata": {
    "colab": {
      "provenance": [],
      "authorship_tag": "ABX9TyOITX4A1meMA0koctjEnJ0P",
      "include_colab_link": true
    },
    "kernelspec": {
      "name": "python3",
      "display_name": "Python 3"
    },
    "language_info": {
      "name": "python"
    }
  },
  "cells": [
    {
      "cell_type": "markdown",
      "metadata": {
        "id": "view-in-github",
        "colab_type": "text"
      },
      "source": [
        "<a href=\"https://colab.research.google.com/github/minseok203/python/blob/main/py_B_.ipynb\" target=\"_parent\"><img src=\"https://colab.research.google.com/assets/colab-badge.svg\" alt=\"Open In Colab\"/></a>"
      ]
    },
    {
      "cell_type": "markdown",
      "source": [
        "# **CH1 파이썬 문법**"
      ],
      "metadata": {
        "id": "JNjEp6Rwh5Li"
      }
    },
    {
      "cell_type": "markdown",
      "source": [
        "## 자료형\n",
        "#### 숫자형\n",
        "정수 : 123, -2, 0\\\n",
        "실수 : 123, 45, -432, 6.2e9\\\n",
        "8진수 : 0o456, 0o123 \\\n",
        "16진수 : 0xFF, 0x00 \\\n"
      ],
      "metadata": {
        "id": "GMhw8YKKigx4"
      }
    },
    {
      "cell_type": "code",
      "source": [
        "a=10\n",
        "b=20\n",
        "c=a+b\n",
        "print(c)"
      ],
      "metadata": {
        "colab": {
          "base_uri": "https://localhost:8080/"
        },
        "id": "kM6VXbl1j2_R",
        "outputId": "8889dc07-10b2-4a72-c5c0-029924e44f28"
      },
      "execution_count": null,
      "outputs": [
        {
          "output_type": "stream",
          "name": "stdout",
          "text": [
            "30\n"
          ]
        }
      ]
    },
    {
      "cell_type": "markdown",
      "source": [
        "#### 변수\n",
        "* 문자 또는 밑줄로 시작 (beta, _kim)\n",
        "* 대소문자를 구분한다 (sum, Sum, SUM) → 다 다르게 인식\n",
        "* 영문자,숫자,밑줄 (A-z,0-9,_)\n",
        "* 파이썬 키워드는 사용불가 \n"
      ],
      "metadata": {
        "id": "btAzHbBIoZXD"
      }
    },
    {
      "cell_type": "code",
      "source": [
        "a=10\n",
        "b=4\n",
        "c=a/b #나눗셈\n",
        "d=a//b #몫\n",
        "e=a%b #나머지\n",
        "f=a*b #곱셈\n",
        "g=a**b #제곱\n",
        "print(c,d,e,f,g)"
      ],
      "metadata": {
        "colab": {
          "base_uri": "https://localhost:8080/"
        },
        "id": "Bp59joM1k0XH",
        "outputId": "dc3fadaf-b7bd-4e14-a881-05bc650e76d4"
      },
      "execution_count": null,
      "outputs": [
        {
          "output_type": "stream",
          "name": "stdout",
          "text": [
            "2.5 2 2 40 10000\n"
          ]
        }
      ]
    },
    {
      "cell_type": "markdown",
      "source": [
        "#### 문자열 \n",
        "1. 큰 따옴표 : \"Hello World!\"\n",
        "2. 작은 따옴표 : '대한민국'\n",
        "3. 큰 따옴표 3개 : \"\"\"Hello!\"\"\"\n",
        "4. 작은 따옴표 3개 : ''' Life is too short, You need python'''\n"
      ],
      "metadata": {
        "id": "RjvswYzSnA6R"
      }
    },
    {
      "cell_type": "code",
      "source": [
        "myName = \"Minseok Kong\" #카멜\n",
        "my_name = \"공민석\" #스네이크\n",
        "MyName = \"kiki\" #파스칼\n",
        "_my_name = \"korea\"\n",
        "MYNAME = \"God is love\"\n",
        "my2name = \"12345\"\n",
        "#2myname = \"9876\" X\n",
        "#my-name = \"9876\" X\n",
        "#my name = \"9876\" X\n",
        "myStr = '123' #str\n",
        "myNum = 123 # int \n",
        "print(myStr, myNum)\n",
        "print(type(myStr))\n",
        "print(type(myNum))"
      ],
      "metadata": {
        "colab": {
          "base_uri": "https://localhost:8080/"
        },
        "id": "Fc52jtbWoEE5",
        "outputId": "08ca7a56-4429-4a1b-ac6d-65ddd49ea8a6"
      },
      "execution_count": null,
      "outputs": [
        {
          "output_type": "stream",
          "name": "stdout",
          "text": [
            "123 123\n",
            "<class 'str'>\n",
            "<class 'int'>\n"
          ]
        }
      ]
    },
    {
      "cell_type": "code",
      "source": [
        "x,y,z = \"포도\", \"딸기\", \"수박\"\n",
        "print(x)\n",
        "print(y)\n",
        "print(z)"
      ],
      "metadata": {
        "colab": {
          "base_uri": "https://localhost:8080/"
        },
        "id": "e1y6gpqFwMlh",
        "outputId": "1ae22097-24a8-4118-bd05-2671274089dc"
      },
      "execution_count": null,
      "outputs": [
        {
          "output_type": "stream",
          "name": "stdout",
          "text": [
            "포도\n",
            "딸기\n",
            "수박\n"
          ]
        }
      ]
    },
    {
      "cell_type": "code",
      "source": [
        "a=b=c = \"오렌지\"\n",
        "print(a)\n",
        "print(b)\n",
        "print(c)"
      ],
      "metadata": {
        "colab": {
          "base_uri": "https://localhost:8080/"
        },
        "id": "je099aqNwa6h",
        "outputId": "17fc55fa-f82a-4d06-96b9-f62b87108850"
      },
      "execution_count": null,
      "outputs": [
        {
          "output_type": "stream",
          "name": "stdout",
          "text": [
            "오렌지\n",
            "오렌지\n",
            "오렌지\n"
          ]
        }
      ]
    },
    {
      "cell_type": "code",
      "source": [
        "friuts = [\"포도\", \"딸기\", \"수박\"]\n",
        "x,y,z = friuts\n",
        "print(x)\n",
        "print(y)\n",
        "print(z)"
      ],
      "metadata": {
        "colab": {
          "base_uri": "https://localhost:8080/"
        },
        "id": "WK_evnebw8jb",
        "outputId": "8c292025-525b-488a-f959-a7815b940939"
      },
      "execution_count": null,
      "outputs": [
        {
          "output_type": "stream",
          "name": "stdout",
          "text": [
            "포도\n",
            "딸기\n",
            "수박\n"
          ]
        }
      ]
    },
    {
      "cell_type": "code",
      "source": [
        "x = \"Life\"\n",
        "y = \"is\"\n",
        "z = \"Beautiful\"\n",
        "print(x,y,z)\n",
        "print(x+y+z)"
      ],
      "metadata": {
        "colab": {
          "base_uri": "https://localhost:8080/"
        },
        "id": "XZciwGfRx2mE",
        "outputId": "6d2febd9-315f-43e5-d056-3a0980a05ba8"
      },
      "execution_count": null,
      "outputs": [
        {
          "output_type": "stream",
          "name": "stdout",
          "text": [
            "Life is Beautiful\n",
            "LifeisBeautiful\n"
          ]
        }
      ]
    },
    {
      "cell_type": "code",
      "source": [
        "a=1\n",
        "b=2\n",
        "c=3\n",
        "print(a,b,c)\n",
        "print(a+b+c)"
      ],
      "metadata": {
        "colab": {
          "base_uri": "https://localhost:8080/"
        },
        "id": "5nYU8csFyLhA",
        "outputId": "b73bcfc3-b7e8-4c1c-97da-d58de358ba5d"
      },
      "execution_count": null,
      "outputs": [
        {
          "output_type": "stream",
          "name": "stdout",
          "text": [
            "1 2 3\n",
            "6\n"
          ]
        }
      ]
    },
    {
      "cell_type": "markdown",
      "source": [
        "#### 데이터 유형\n",
        "* 텍스트\n",
        "* 숫자\n",
        "* 불(bool)"
      ],
      "metadata": {
        "id": "NaYGe020ypuy"
      }
    },
    {
      "cell_type": "code",
      "source": [
        "a=100\n",
        "b=200\n",
        "sum = a+b\n",
        "c=a-b\n",
        "d=a*b\n",
        "e=a/b\n",
        "print(a,\"+\", b, \"=\", sum)\n",
        "print(a, \"-\", b, \"=\", c)\n",
        "print(a, \"*\", b, \"=\", d)\n",
        "print(a, \"/\", b, \"=\", e)"
      ],
      "metadata": {
        "colab": {
          "base_uri": "https://localhost:8080/"
        },
        "id": "-OK-seudzNJJ",
        "outputId": "17fbf04a-421a-42fd-dddc-e384c49089bc"
      },
      "execution_count": null,
      "outputs": [
        {
          "output_type": "stream",
          "name": "stdout",
          "text": [
            "100 + 200 = 300\n",
            "100 - 200 = -100\n",
            "100 * 200 = 20000\n",
            "100 / 200 = 0.5\n"
          ]
        }
      ]
    },
    {
      "cell_type": "markdown",
      "source": [
        "#### input() 함수 이용한 계산기"
      ],
      "metadata": {
        "id": "yWQjNMdBA5In"
      }
    },
    {
      "cell_type": "code",
      "source": [
        "a=int(input(\"첫번째 숫자를 입력하세요: \"))\n",
        "b=int(input(\"두번째 숫자를 입력하세요: \"))\n",
        "result = a+b\n",
        "print(a,'+',b,'=',result )\n",
        "result = a-b\n",
        "print(a,'-',b,'=',result )\n",
        "result = a*b\n",
        "print(a,'*',b,'=',result )\n",
        "result = a/b\n",
        "print(a,'/',b,'=',result )"
      ],
      "metadata": {
        "colab": {
          "base_uri": "https://localhost:8080/"
        },
        "id": "eC1i0mUIA9__",
        "outputId": "602d3930-b7ba-4815-8261-9f6184d45937"
      },
      "execution_count": null,
      "outputs": [
        {
          "output_type": "stream",
          "name": "stdout",
          "text": [
            "첫번째 숫자를 입력하세요: 20\n",
            "두번째 숫자를 입력하세요: 2\n",
            "20 + 2 = 22\n",
            "20 - 2 = 18\n",
            "20 * 2 = 40\n",
            "20 / 2 = 10.0\n"
          ]
        }
      ]
    },
    {
      "cell_type": "code",
      "source": [
        "a=int(input(\"첫번째 숫자를 입력하세요: \"))\n",
        "b=int(input(\"두번째 숫자를 입력하세요: \"))\n",
        "result = a//b\n",
        "print(a,'//',b,'=',result )\n",
        "result = a%b\n",
        "print(a,'%',b,'=',result )\n",
        "result = a**b\n",
        "print(a,'**',b,'=',result )"
      ],
      "metadata": {
        "colab": {
          "base_uri": "https://localhost:8080/"
        },
        "id": "VQI3mBMPBwkf",
        "outputId": "631acfa7-5b66-480b-ca89-d4c9abed7387"
      },
      "execution_count": null,
      "outputs": [
        {
          "output_type": "stream",
          "name": "stdout",
          "text": [
            "첫번째 숫자를 입력하세요: 10\n",
            "두번째 숫자를 입력하세요: 4\n",
            "10 // 4 = 2\n",
            "10 % 4 = 2\n",
            "10 ** 4 = 10000\n"
          ]
        }
      ]
    },
    {
      "cell_type": "code",
      "source": [
        "num1 = input(\"숫자입력1: \")\n",
        "num2 = input(\"숫자입력2: \")\n",
        "result = num1 + num2\n",
        "print(type(num1))\n",
        "print(num1,'+',num2,'=',result)"
      ],
      "metadata": {
        "colab": {
          "base_uri": "https://localhost:8080/"
        },
        "id": "iZUayhd-DftK",
        "outputId": "f1cc2c6a-1ff6-479d-8ee7-ec3668ba4562"
      },
      "execution_count": null,
      "outputs": [
        {
          "output_type": "stream",
          "name": "stdout",
          "text": [
            "숫자입력1: 100\n",
            "숫자입력2: 200\n",
            "<class 'str'>\n",
            "100 + 200 = 100200\n"
          ]
        }
      ]
    },
    {
      "cell_type": "markdown",
      "source": [
        "#quiz: \n",
        "## 전화번호, 이름,무게를 입력받아 출력: \n",
        "#### 입력한 내용은 이름\"00\"\n",
        "#### 전화번호\"00\" 입니다\n",
        "#### 무게는 입력한 g수 x 10원=산출 금액 출력\n",
        "#### 산출금액은 \"00\"원입니다"
      ],
      "metadata": {
        "id": "v7UqwqBvEbmI"
      }
    },
    {
      "cell_type": "code",
      "source": [
        "a=input(\"전화번호를 입력하세요: \")\n",
        "b=input(\"이름을 입력하세요: \")\n",
        "c=int(input(\"무게를 입력하세요: \"))\n",
        "result=a\n",
        "print(\"전화번호는\",result,\"입니다\" )\n",
        "result=b\n",
        "print(\"이름은\",result,\"입니다\" )\n",
        "result=c\n",
        "print(\"무게는\",result,\"g입니다\" )\n",
        "result=c*10\n",
        "print(\"산출금액은\",result,\"원입니다\" )"
      ],
      "metadata": {
        "colab": {
          "base_uri": "https://localhost:8080/"
        },
        "id": "BKzaxvk6FOjC",
        "outputId": "9db2a649-a3c6-4a40-fe7c-7b272133e6a4"
      },
      "execution_count": null,
      "outputs": [
        {
          "output_type": "stream",
          "name": "stdout",
          "text": [
            "전화번호를 입력하세요: 010 1234 5678\n",
            "이름을 입력하세요: 공민석\n",
            "무게를 입력하세요: 60\n",
            "전화번호는 010 1234 5678 입니다\n",
            "이름은 공민석 입니다\n",
            "무게는 60 g입니다\n",
            "산출금액은 600 원입니다\n"
          ]
        }
      ]
    },
    {
      "cell_type": "markdown",
      "source": [
        "#### 2. print() 서식 출력"
      ],
      "metadata": {
        "id": "fgGw-P58i3Dm"
      }
    },
    {
      "cell_type": "code",
      "source": [
        "print(\"%d\" % 123)\n",
        "print(\"%5d\" % 123)\n",
        "print(\"%05d\" % 123)\n",
        "\n",
        "print(\"%f\" % 123.45)\n",
        "print(\"%7.1f\" % 123.45)\n",
        "print(\"%7.3f\" % 123.45)\n",
        "\n",
        "print(\"%s\" % \"대한민국\")\n",
        "print(\"%6s\" % \"대한민국\")"
      ],
      "metadata": {
        "colab": {
          "base_uri": "https://localhost:8080/"
        },
        "id": "7oii6eTXi7yD",
        "outputId": "8c6bf4d6-33ad-4a70-806e-f9ea5c8aedd6"
      },
      "execution_count": 2,
      "outputs": [
        {
          "output_type": "stream",
          "name": "stdout",
          "text": [
            "123\n",
            "  123\n",
            "00123\n",
            "123.450000\n",
            "  123.5\n",
            "123.450\n",
            "대한민국\n",
            "  대한민국\n"
          ]
        }
      ]
    },
    {
      "cell_type": "markdown",
      "source": [
        "#### Format 함수 : 순서 지정 가능"
      ],
      "metadata": {
        "id": "umf9HjQBkuwu"
      }
    },
    {
      "cell_type": "code",
      "source": [
        "print(\"{0:d}{1:5d}{2:05d}\".format(123,456,789))"
      ],
      "metadata": {
        "colab": {
          "base_uri": "https://localhost:8080/"
        },
        "id": "0zo0bUO7kCYB",
        "outputId": "366f74e4-0006-4325-de16-478a6fc1037c"
      },
      "execution_count": 4,
      "outputs": [
        {
          "output_type": "stream",
          "name": "stdout",
          "text": [
            "123  45600789\n"
          ]
        }
      ]
    },
    {
      "cell_type": "code",
      "source": [
        "print(\"{2:d}{1:5d}{0:05d}\".format(123,456,789))"
      ],
      "metadata": {
        "colab": {
          "base_uri": "https://localhost:8080/"
        },
        "id": "sqjjdts_kayq",
        "outputId": "f81a8bcf-df63-42e1-9c95-f94e819f29b1"
      },
      "execution_count": 5,
      "outputs": [
        {
          "output_type": "stream",
          "name": "stdout",
          "text": [
            "789  45600123\n"
          ]
        }
      ]
    },
    {
      "cell_type": "markdown",
      "source": [
        "#### 서식 출력"
      ],
      "metadata": {
        "id": "YI3VXDTLk63e"
      }
    },
    {
      "cell_type": "code",
      "source": [
        "print(\"\\n줄바꿈\\n연습입니다.\")"
      ],
      "metadata": {
        "colab": {
          "base_uri": "https://localhost:8080/"
        },
        "id": "u16KCFaMlMIO",
        "outputId": "53c59fb9-6e33-4e96-a049-e60cdce147be"
      },
      "execution_count": 6,
      "outputs": [
        {
          "output_type": "stream",
          "name": "stdout",
          "text": [
            "\n",
            "줄바꿈\n",
            "연습입니다.\n"
          ]
        }
      ]
    },
    {
      "cell_type": "code",
      "source": [
        "print(\"\\t탭키\\t연습\")"
      ],
      "metadata": {
        "colab": {
          "base_uri": "https://localhost:8080/"
        },
        "id": "7qH6oZgHlUf6",
        "outputId": "97c35688-2731-4548-f448-90a8b6633c55"
      },
      "execution_count": 13,
      "outputs": [
        {
          "output_type": "stream",
          "name": "stdout",
          "text": [
            "\t탭키\t연습\n"
          ]
        }
      ]
    },
    {
      "cell_type": "code",
      "source": [
        "print(\"글자가 \\\"강조\\\"되는 효과1\")\n",
        "print(\"글자가 \\'강조\\'되는 효과2\")\n",
        "print(\"역슬레시 3개출력 \\\\\\\\\\\\\")\n",
        "print(r\"\\n \\t \\\" \\\\를 그대로 출력\") #그대로 출력"
      ],
      "metadata": {
        "colab": {
          "base_uri": "https://localhost:8080/"
        },
        "id": "qfu9SJw6ldAk",
        "outputId": "1a4e3dab-9b04-4ba6-889b-fcae71effbac"
      },
      "execution_count": 15,
      "outputs": [
        {
          "output_type": "stream",
          "name": "stdout",
          "text": [
            "글자가 \"강조\"되는 효과1\n",
            "글자가 '강조'되는 효과2\n",
            "역슬레시 3개출력 \\\\\\\n",
            "\\n \\t \\\" \\\\를 그대로 출력\n"
          ]
        }
      ]
    },
    {
      "cell_type": "markdown",
      "source": [
        "#### 관계연산자"
      ],
      "metadata": {
        "id": "v4vIr0dlosPN"
      }
    },
    {
      "cell_type": "code",
      "source": [
        "a,b = 10,20\n",
        "print(a==b, a!=b, a>b, a<b, a>=b, a<=b)"
      ],
      "metadata": {
        "colab": {
          "base_uri": "https://localhost:8080/"
        },
        "id": "dMb9VkxJouXN",
        "outputId": "068957e3-feda-45cb-b5d0-b5e59bf0972c"
      },
      "execution_count": 16,
      "outputs": [
        {
          "output_type": "stream",
          "name": "stdout",
          "text": [
            "False True False True False True\n"
          ]
        }
      ]
    },
    {
      "cell_type": "markdown",
      "source": [
        "#### 논리연산자"
      ],
      "metadata": {
        "id": "dwdx0-mTpBWa"
      }
    },
    {
      "cell_type": "code",
      "source": [
        "a = 99\n",
        "print((a>100) and (a<200))\n",
        "print((a>100)or(a<200))\n",
        "print(not(a==100))"
      ],
      "metadata": {
        "colab": {
          "base_uri": "https://localhost:8080/"
        },
        "id": "Ks7_3w6ipDlx",
        "outputId": "5126e906-cd93-4dbc-d8b8-6fef31bd3ef9"
      },
      "execution_count": 20,
      "outputs": [
        {
          "output_type": "stream",
          "name": "stdout",
          "text": [
            "False\n",
            "True\n",
            "True\n"
          ]
        }
      ]
    },
    {
      "cell_type": "code",
      "source": [
        "if(123):\n",
        "  print(\"참이면 보입니다\")\n",
        "if(0):\n",
        "  print(\"거짓이면 안 보입니다\")  "
      ],
      "metadata": {
        "colab": {
          "base_uri": "https://localhost:8080/"
        },
        "id": "Ez1CnIu_pjBm",
        "outputId": "5979b14b-ba48-4b0f-bc80-deba5b9f916a"
      },
      "execution_count": 21,
      "outputs": [
        {
          "output_type": "stream",
          "name": "stdout",
          "text": [
            "참이면 보입니다\n"
          ]
        }
      ]
    },
    {
      "cell_type": "markdown",
      "source": [
        "#### 퀴즈2 숫자 입력 받아 동전으로 바꿔주는 프로그램 \n",
        "#### (500원, 100원, 50원, 10원)"
      ],
      "metadata": {
        "id": "ZWdmL6G9vrx2"
      }
    },
    {
      "cell_type": "code",
      "source": [
        "bill,c500,c100,c50,c10 = 0,0,0,0,0\n",
        "bill=int(input(\"바꿀돈은?:\"))\n",
        "c500 = bill//500\n",
        "bill%=500\n",
        "c100=bill//100\n",
        "bill%=100\n",
        "c50=bill//50\n",
        "bill%=50\n",
        "c10=bill//10\n",
        "bill%=10\n",
        "print(\"500원짜리:%d개\" % c500)\n",
        "print(\"100원짜리:%d개\" % c100)\n",
        "print(\"50원짜리:%d개\" % c50)\n",
        "print(\"10원짜리:%d개\" % c10)\n",
        "print(\"잔돈:%d원\" % bill)"
      ],
      "metadata": {
        "colab": {
          "base_uri": "https://localhost:8080/"
        },
        "id": "NOUXYulfv7Xq",
        "outputId": "e4061098-0845-48e2-cdf7-0f69513eaa9e"
      },
      "execution_count": 28,
      "outputs": [
        {
          "output_type": "stream",
          "name": "stdout",
          "text": [
            "바꿀돈은?:1500\n",
            "500원짜리:3개\n",
            "100원짜리:0개\n",
            "50원짜리:0개\n",
            "10원짜리:0개\n",
            "잔돈:0원\n"
          ]
        }
      ]
    },
    {
      "cell_type": "markdown",
      "source": [
        "####조건문"
      ],
      "metadata": {
        "id": "CfxEbzJF1Huk"
      }
    },
    {
      "cell_type": "code",
      "source": [
        "a=300\n",
        "if(a<100):\n",
        "  print(\"100보다 작음\")\n",
        "else:\n",
        "  print(\"100보다 크다\")\n",
        "print(\"프로그램 끝\")"
      ],
      "metadata": {
        "colab": {
          "base_uri": "https://localhost:8080/"
        },
        "id": "i0rcIBS21JWn",
        "outputId": "12864065-a4e6-4df4-aeb8-35b9c4336610"
      },
      "execution_count": 31,
      "outputs": [
        {
          "output_type": "stream",
          "name": "stdout",
          "text": [
            "100보다 크다\n",
            "프로그램 끝\n"
          ]
        }
      ]
    },
    {
      "cell_type": "code",
      "source": [
        "#홀짝 구분\n",
        "a=int(input(\"정수를 입력하세요:\"))\n",
        "if(a%2==0):\n",
        "  print(\"짝수\")\n",
        "else:\n",
        "  print(\"홀수\")"
      ],
      "metadata": {
        "colab": {
          "base_uri": "https://localhost:8080/"
        },
        "id": "A1xnw6QP2TfA",
        "outputId": "a5ad0410-071c-401c-e484-1a17def6e4f8"
      },
      "execution_count": 32,
      "outputs": [
        {
          "output_type": "stream",
          "name": "stdout",
          "text": [
            "정수를 입력하세요:3\n",
            "홀수\n"
          ]
        }
      ]
    },
    {
      "cell_type": "code",
      "source": [
        "a=120\n",
        "if(a>50):\n",
        "  if(a<100):\n",
        "    print(\"50<a<100\")\n",
        "  else:\n",
        "    print(\"a>100\")\n",
        "else:\n",
        "  print(\"a<50\")"
      ],
      "metadata": {
        "colab": {
          "base_uri": "https://localhost:8080/"
        },
        "id": "mIIDa6Q_29yn",
        "outputId": "40bb2cab-9d81-42b7-d06a-594e782fb768"
      },
      "execution_count": 33,
      "outputs": [
        {
          "output_type": "stream",
          "name": "stdout",
          "text": [
            "a>100\n"
          ]
        }
      ]
    },
    {
      "cell_type": "code",
      "source": [
        "fruit=['사과','배','감','포도']\n",
        "fruit. append('딸기')\n",
        "if '딸기' not in fruit :\n",
        "  print(\"딸기가 있습니다\")\n",
        "print(\"딸기가 없음\") \n",
        "print(fruit)"
      ],
      "metadata": {
        "colab": {
          "base_uri": "https://localhost:8080/"
        },
        "id": "qrZorQY67fWz",
        "outputId": "d72e7e2a-e2c0-41b5-90e9-042f72e83ef5"
      },
      "execution_count": 37,
      "outputs": [
        {
          "output_type": "stream",
          "name": "stdout",
          "text": [
            "딸기가 없음\n",
            "['사과', '배', '감', '포도', '딸기']\n"
          ]
        }
      ]
    },
    {
      "cell_type": "code",
      "source": [
        "fruit=['사과','배','감','포도']\n",
        "fruit. append('딸기')\n",
        "if '딸기' in fruit :\n",
        "  print(\"딸기가 있습니다\")\n",
        "print(fruit)"
      ],
      "metadata": {
        "colab": {
          "base_uri": "https://localhost:8080/"
        },
        "id": "DRr20ZaA9CHd",
        "outputId": "c5aa08e1-8cd6-4e96-9a7b-a61ccb786693"
      },
      "execution_count": 39,
      "outputs": [
        {
          "output_type": "stream",
          "name": "stdout",
          "text": [
            "딸기가 있습니다\n",
            "['사과', '배', '감', '포도', '딸기']\n"
          ]
        }
      ]
    },
    {
      "cell_type": "code",
      "source": [
        "import random\n",
        "\n",
        "number=[]\n",
        "for num in range(0,7):\n",
        "  number.append(random.randrange(1,46))\n",
        "print(\"생성된 리스트\", number)"
      ],
      "metadata": {
        "colab": {
          "base_uri": "https://localhost:8080/"
        },
        "id": "-TVO_l4i9KKk",
        "outputId": "9f1782a5-00d4-4f4e-ad70-27595655df88"
      },
      "execution_count": 45,
      "outputs": [
        {
          "output_type": "stream",
          "name": "stdout",
          "text": [
            "생성된 리스트 [23, 13, 37, 24, 28, 30, 21]\n"
          ]
        }
      ]
    },
    {
      "cell_type": "markdown",
      "source": [
        "#### 반복문"
      ],
      "metadata": {
        "id": "x9sdpzVR-ehJ"
      }
    },
    {
      "cell_type": "code",
      "source": [
        "for i in range(0,3,1): #시작값, 끝값+1,증가값\n",
        "  print(\"안녕하세요\") #반복내용\n",
        "  print(i)\n",
        "print(\"반갑습니다\")"
      ],
      "metadata": {
        "colab": {
          "base_uri": "https://localhost:8080/"
        },
        "id": "_9dsh0Ny-gJ3",
        "outputId": "46ea8a83-37a1-4c69-8b27-bdea2c458f53"
      },
      "execution_count": 50,
      "outputs": [
        {
          "output_type": "stream",
          "name": "stdout",
          "text": [
            "0 안녕하세요\n",
            "1 안녕하세요\n",
            "2 안녕하세요\n",
            "반갑습니다\n"
          ]
        }
      ]
    },
    {
      "cell_type": "code",
      "source": [
        "for i in range(0,3,1): #시작값, 끝값+1,증가값\n",
        "  print(\"%d 안녕하세요\"% i) #반복내용\n",
        "  #print(i)\n",
        "print(\"반갑습니다\")"
      ],
      "metadata": {
        "colab": {
          "base_uri": "https://localhost:8080/"
        },
        "id": "Di9byg_5_vLv",
        "outputId": "02d3aa7e-f8c4-4340-afc5-c54ec360a4e5"
      },
      "execution_count": 51,
      "outputs": [
        {
          "output_type": "stream",
          "name": "stdout",
          "text": [
            "0 안녕하세요\n",
            "1 안녕하세요\n",
            "2 안녕하세요\n",
            "반갑습니다\n"
          ]
        }
      ]
    },
    {
      "cell_type": "code",
      "source": [
        "for i in range(1,9,1):\n",
        "  print(\"%d \"% i, end=\"\")\n",
        "print(\"\\n\")\n",
        "for i in range(1,9,1):\n",
        "  print(\"%d\"% i, end=\" \")"
      ],
      "metadata": {
        "colab": {
          "base_uri": "https://localhost:8080/"
        },
        "id": "Bp7_eo93_zB4",
        "outputId": "81e11ecd-35ee-4764-b0a3-27372b111c8c"
      },
      "execution_count": 58,
      "outputs": [
        {
          "output_type": "stream",
          "name": "stdout",
          "text": [
            "1 2 3 4 5 6 7 8 \n",
            "\n",
            "1 2 3 4 5 6 7 8 "
          ]
        }
      ]
    },
    {
      "cell_type": "code",
      "source": [
        "sum=0\n",
        "for i in range(1,11,1):\n",
        "  sum=sum+i\n",
        "print(\"1~10까지 합계:%d\" % sum)\n",
        " "
      ],
      "metadata": {
        "colab": {
          "base_uri": "https://localhost:8080/"
        },
        "id": "YTcXtA6xBEjj",
        "outputId": "d5568410-4d5a-4e9e-8aba-f4b8a1946900"
      },
      "execution_count": 62,
      "outputs": [
        {
          "output_type": "stream",
          "name": "stdout",
          "text": [
            "1~10까지 합계:55\n"
          ]
        }
      ]
    },
    {
      "cell_type": "markdown",
      "source": [
        "#### quiz3 : 숫자 입력 받아 1부터 입력된 숫자까지의 합, 곱"
      ],
      "metadata": {
        "id": "m-F9mmCKB1Ln"
      }
    },
    {
      "cell_type": "code",
      "source": [
        "sum,num=0,0\n",
        "num=int(input(\"숫자를 입력하세요:\"))\n",
        "for i in range(1,num+1):\n",
        "  sum=sum+i\n",
        "print(\"1~num까지 합:%d\" % sum)"
      ],
      "metadata": {
        "colab": {
          "base_uri": "https://localhost:8080/"
        },
        "id": "g68MzmtbB9i7",
        "outputId": "82dcc943-4b0a-45ac-8b8d-dc34bdc7b804"
      },
      "execution_count": 66,
      "outputs": [
        {
          "output_type": "stream",
          "name": "stdout",
          "text": [
            "숫자를 입력하세요:9\n",
            "1~num까지 합:45\n"
          ]
        }
      ]
    },
    {
      "cell_type": "markdown",
      "source": [
        "중첩 for문"
      ],
      "metadata": {
        "id": "TjlOSUifDqN4"
      }
    },
    {
      "cell_type": "code",
      "source": [
        "i,j,k=0,0,0\n",
        "k=int(input(\"구구단 단수 입력\"))\n",
        "for i in range(1,10,1):\n",
        "  print(\"%d x %d=%2d\" %(k,i,k*i))\n",
        "print(\"\")\n"
      ],
      "metadata": {
        "colab": {
          "base_uri": "https://localhost:8080/"
        },
        "id": "rCql9dP9Duq9",
        "outputId": "8e38ec20-e9a6-42d5-ed38-96a17e5e93a3"
      },
      "execution_count": 71,
      "outputs": [
        {
          "output_type": "stream",
          "name": "stdout",
          "text": [
            "구구단 단수 입력9\n",
            "9 x 1= 9\n",
            "9 x 2=18\n",
            "9 x 3=27\n",
            "9 x 4=36\n",
            "9 x 5=45\n",
            "9 x 6=54\n",
            "9 x 7=63\n",
            "9 x 8=72\n",
            "9 x 9=81\n",
            "\n"
          ]
        }
      ]
    },
    {
      "cell_type": "code",
      "source": [
        "i,j,k=0,0,0\n",
        "for i in range(2,6,1):\n",
        "  for j in range(1,10,1):\n",
        "    print(\"%d x %d=%2d\" %(i,j,i*j))\n",
        "print(\"\")"
      ],
      "metadata": {
        "colab": {
          "base_uri": "https://localhost:8080/"
        },
        "id": "JMzNIsIxFgnl",
        "outputId": "508c62ce-395b-46c9-ca2c-b4d9e0cadc3a"
      },
      "execution_count": 94,
      "outputs": [
        {
          "output_type": "stream",
          "name": "stdout",
          "text": [
            "2 x 1= 2\n",
            "2 x 2= 4\n",
            "2 x 3= 6\n",
            "2 x 4= 8\n",
            "2 x 5=10\n",
            "2 x 6=12\n",
            "2 x 7=14\n",
            "2 x 8=16\n",
            "2 x 9=18\n",
            "3 x 1= 3\n",
            "3 x 2= 6\n",
            "3 x 3= 9\n",
            "3 x 4=12\n",
            "3 x 5=15\n",
            "3 x 6=18\n",
            "3 x 7=21\n",
            "3 x 8=24\n",
            "3 x 9=27\n",
            "4 x 1= 4\n",
            "4 x 2= 8\n",
            "4 x 3=12\n",
            "4 x 4=16\n",
            "4 x 5=20\n",
            "4 x 6=24\n",
            "4 x 7=28\n",
            "4 x 8=32\n",
            "4 x 9=36\n",
            "5 x 1= 5\n",
            "5 x 2=10\n",
            "5 x 3=15\n",
            "5 x 4=20\n",
            "5 x 5=25\n",
            "5 x 6=30\n",
            "5 x 7=35\n",
            "5 x 8=40\n",
            "5 x 9=45\n",
            "\n"
          ]
        }
      ]
    },
    {
      "cell_type": "markdown",
      "source": [
        "#### 과제 2,3,4,5단 옆줄에 6,7,8,9단"
      ],
      "metadata": {
        "id": "cK07Tf0zIxUR"
      }
    },
    {
      "cell_type": "code",
      "source": [
        "i,j=0,0\n",
        "for i in range(2,6,1):\n",
        "  for j in range(1,10,1):\n",
        "    print(\"%d x %d=%2d \\t\" %(i,j,i*j), end='')\n",
        "print(\"\")\n",
        "\n",
        "a,b=0,0\n",
        "for a in range(6,10,1):\n",
        "  for b in range(1,10,1):\n",
        "    print(\"%d x %d=%2d \\t\" %(a,b,a*b), end='')\n",
        "print(\"\")\n"
      ],
      "metadata": {
        "colab": {
          "base_uri": "https://localhost:8080/"
        },
        "id": "VD_xLX7OHgxp",
        "outputId": "48259867-d1e7-4a95-86d6-9239fddb5777"
      },
      "execution_count": 128,
      "outputs": [
        {
          "output_type": "stream",
          "name": "stdout",
          "text": [
            "2 x 1= 2 \t2 x 2= 4 \t2 x 3= 6 \t2 x 4= 8 \t2 x 5=10 \t2 x 6=12 \t2 x 7=14 \t2 x 8=16 \t2 x 9=18 \t3 x 1= 3 \t3 x 2= 6 \t3 x 3= 9 \t3 x 4=12 \t3 x 5=15 \t3 x 6=18 \t3 x 7=21 \t3 x 8=24 \t3 x 9=27 \t4 x 1= 4 \t4 x 2= 8 \t4 x 3=12 \t4 x 4=16 \t4 x 5=20 \t4 x 6=24 \t4 x 7=28 \t4 x 8=32 \t4 x 9=36 \t5 x 1= 5 \t5 x 2=10 \t5 x 3=15 \t5 x 4=20 \t5 x 5=25 \t5 x 6=30 \t5 x 7=35 \t5 x 8=40 \t5 x 9=45 \t\n",
            "6 x 1= 6 \t6 x 2=12 \t6 x 3=18 \t6 x 4=24 \t6 x 5=30 \t6 x 6=36 \t6 x 7=42 \t6 x 8=48 \t6 x 9=54 \t7 x 1= 7 \t7 x 2=14 \t7 x 3=21 \t7 x 4=28 \t7 x 5=35 \t7 x 6=42 \t7 x 7=49 \t7 x 8=56 \t7 x 9=63 \t8 x 1= 8 \t8 x 2=16 \t8 x 3=24 \t8 x 4=32 \t8 x 5=40 \t8 x 6=48 \t8 x 7=56 \t8 x 8=64 \t8 x 9=72 \t9 x 1= 9 \t9 x 2=18 \t9 x 3=27 \t9 x 4=36 \t9 x 5=45 \t9 x 6=54 \t9 x 7=63 \t9 x 8=72 \t9 x 9=81 \t\n"
          ]
        }
      ]
    },
    {
      "cell_type": "code",
      "source": [
        "a,b=0,0\n",
        "for a in range(1,10,1):\n",
        "  for b in range(2,6,1):\n",
        "    print(\"%d x %d = %2d\" % (b,a,a*b), end='\\t')\n",
        "  print(\"\")\n",
        "print(\"\\n\")\n",
        "\n",
        "i,j=0,0\n",
        "for i in range(1,10,1):\n",
        "  for j in range(6,10,1):\n",
        "    print(\"%d x %d = %2d\" % (j,i,j*i), end='\\t')\n",
        "  print(\"\")"
      ],
      "metadata": {
        "colab": {
          "base_uri": "https://localhost:8080/"
        },
        "id": "czJJSebGJE5d",
        "outputId": "4e9ff8ef-1011-4be9-f9af-760bb98e68bd"
      },
      "execution_count": 139,
      "outputs": [
        {
          "output_type": "stream",
          "name": "stdout",
          "text": [
            "2 x 1 =  2\t3 x 1 =  3\t4 x 1 =  4\t5 x 1 =  5\t\n",
            "2 x 2 =  4\t3 x 2 =  6\t4 x 2 =  8\t5 x 2 = 10\t\n",
            "2 x 3 =  6\t3 x 3 =  9\t4 x 3 = 12\t5 x 3 = 15\t\n",
            "2 x 4 =  8\t3 x 4 = 12\t4 x 4 = 16\t5 x 4 = 20\t\n",
            "2 x 5 = 10\t3 x 5 = 15\t4 x 5 = 20\t5 x 5 = 25\t\n",
            "2 x 6 = 12\t3 x 6 = 18\t4 x 6 = 24\t5 x 6 = 30\t\n",
            "2 x 7 = 14\t3 x 7 = 21\t4 x 7 = 28\t5 x 7 = 35\t\n",
            "2 x 8 = 16\t3 x 8 = 24\t4 x 8 = 32\t5 x 8 = 40\t\n",
            "2 x 9 = 18\t3 x 9 = 27\t4 x 9 = 36\t5 x 9 = 45\t\n",
            "\n",
            "\n",
            "6 x 1 =  6\t7 x 1 =  7\t8 x 1 =  8\t9 x 1 =  9\t\n",
            "6 x 2 = 12\t7 x 2 = 14\t8 x 2 = 16\t9 x 2 = 18\t\n",
            "6 x 3 = 18\t7 x 3 = 21\t8 x 3 = 24\t9 x 3 = 27\t\n",
            "6 x 4 = 24\t7 x 4 = 28\t8 x 4 = 32\t9 x 4 = 36\t\n",
            "6 x 5 = 30\t7 x 5 = 35\t8 x 5 = 40\t9 x 5 = 45\t\n",
            "6 x 6 = 36\t7 x 6 = 42\t8 x 6 = 48\t9 x 6 = 54\t\n",
            "6 x 7 = 42\t7 x 7 = 49\t8 x 7 = 56\t9 x 7 = 63\t\n",
            "6 x 8 = 48\t7 x 8 = 56\t8 x 8 = 64\t9 x 8 = 72\t\n",
            "6 x 9 = 54\t7 x 9 = 63\t8 x 9 = 72\t9 x 9 = 81\t\n"
          ]
        }
      ]
    }
  ]
}