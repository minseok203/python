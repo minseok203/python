{
  "nbformat": 4,
  "nbformat_minor": 0,
  "metadata": {
    "colab": {
      "provenance": [],
      "collapsed_sections": [
        "RjvswYzSnA6R",
        "NaYGe020ypuy",
        "yWQjNMdBA5In",
        "fgGw-P58i3Dm",
        "umf9HjQBkuwu",
        "YI3VXDTLk63e",
        "v4vIr0dlosPN",
        "dwdx0-mTpBWa",
        "ZWdmL6G9vrx2",
        "CfxEbzJF1Huk",
        "x9sdpzVR-ehJ",
        "m-F9mmCKB1Ln",
        "cK07Tf0zIxUR",
        "w1p7JRtVqP6c",
        "96vrraxY5P6v"
      ],
      "authorship_tag": "ABX9TyPllskvRTV5i5nrUfrnqSGN",
      "include_colab_link": true
    },
    "kernelspec": {
      "name": "python3",
      "display_name": "Python 3"
    },
    "language_info": {
      "name": "python"
    }
  },
  "cells": [
    {
      "cell_type": "markdown",
      "metadata": {
        "id": "view-in-github",
        "colab_type": "text"
      },
      "source": [
        "<a href=\"https://colab.research.google.com/github/minseok203/python/blob/main/py_B_.ipynb\" target=\"_parent\"><img src=\"https://colab.research.google.com/assets/colab-badge.svg\" alt=\"Open In Colab\"/></a>"
      ]
    },
    {
      "cell_type": "markdown",
      "source": [
        "# **CH1 파이썬 문법**"
      ],
      "metadata": {
        "id": "JNjEp6Rwh5Li"
      }
    },
    {
      "cell_type": "markdown",
      "source": [
        "## 자료형\n",
        "#### 숫자형\n",
        "정수 : 123, -2, 0\\\n",
        "실수 : 123, 45, -432, 6.2e9\\\n",
        "8진수 : 0o456, 0o123 \\\n",
        "16진수 : 0xFF, 0x00 \\\n"
      ],
      "metadata": {
        "id": "GMhw8YKKigx4"
      }
    },
    {
      "cell_type": "code",
      "source": [
        "a=10\n",
        "b=20\n",
        "c=a+b\n",
        "print(c)"
      ],
      "metadata": {
        "colab": {
          "base_uri": "https://localhost:8080/"
        },
        "id": "kM6VXbl1j2_R",
        "outputId": "8889dc07-10b2-4a72-c5c0-029924e44f28"
      },
      "execution_count": null,
      "outputs": [
        {
          "output_type": "stream",
          "name": "stdout",
          "text": [
            "30\n"
          ]
        }
      ]
    },
    {
      "cell_type": "markdown",
      "source": [
        "#### 변수\n",
        "* 문자 또는 밑줄로 시작 (beta, _kim)\n",
        "* 대소문자를 구분한다 (sum, Sum, SUM) → 다 다르게 인식\n",
        "* 영문자,숫자,밑줄 (A-z,0-9,_)\n",
        "* 파이썬 키워드는 사용불가 \n"
      ],
      "metadata": {
        "id": "btAzHbBIoZXD"
      }
    },
    {
      "cell_type": "code",
      "source": [
        "a=10\n",
        "b=4\n",
        "c=a/b #나눗셈\n",
        "d=a//b #몫\n",
        "e=a%b #나머지\n",
        "f=a*b #곱셈\n",
        "g=a**b #제곱\n",
        "print(c,d,e,f,g)"
      ],
      "metadata": {
        "colab": {
          "base_uri": "https://localhost:8080/"
        },
        "id": "Bp59joM1k0XH",
        "outputId": "dc3fadaf-b7bd-4e14-a881-05bc650e76d4"
      },
      "execution_count": null,
      "outputs": [
        {
          "output_type": "stream",
          "name": "stdout",
          "text": [
            "2.5 2 2 40 10000\n"
          ]
        }
      ]
    },
    {
      "cell_type": "markdown",
      "source": [
        "#### 문자열 \n",
        "1. 큰 따옴표 : \"Hello World!\"\n",
        "2. 작은 따옴표 : '대한민국'\n",
        "3. 큰 따옴표 3개 : \"\"\"Hello!\"\"\"\n",
        "4. 작은 따옴표 3개 : ''' Life is too short, You need python'''\n"
      ],
      "metadata": {
        "id": "RjvswYzSnA6R"
      }
    },
    {
      "cell_type": "code",
      "source": [
        "myName = \"Minseok Kong\" #카멜\n",
        "my_name = \"공민석\" #스네이크\n",
        "MyName = \"kiki\" #파스칼\n",
        "_my_name = \"korea\"\n",
        "MYNAME = \"God is love\"\n",
        "my2name = \"12345\"\n",
        "#2myname = \"9876\" X\n",
        "#my-name = \"9876\" X\n",
        "#my name = \"9876\" X\n",
        "myStr = '123' #str\n",
        "myNum = 123 # int \n",
        "print(myStr, myNum)\n",
        "print(type(myStr))\n",
        "print(type(myNum))"
      ],
      "metadata": {
        "colab": {
          "base_uri": "https://localhost:8080/"
        },
        "id": "Fc52jtbWoEE5",
        "outputId": "08ca7a56-4429-4a1b-ac6d-65ddd49ea8a6"
      },
      "execution_count": null,
      "outputs": [
        {
          "output_type": "stream",
          "name": "stdout",
          "text": [
            "123 123\n",
            "<class 'str'>\n",
            "<class 'int'>\n"
          ]
        }
      ]
    },
    {
      "cell_type": "code",
      "source": [
        "x,y,z = \"포도\", \"딸기\", \"수박\"\n",
        "print(x)\n",
        "print(y)\n",
        "print(z)"
      ],
      "metadata": {
        "colab": {
          "base_uri": "https://localhost:8080/"
        },
        "id": "e1y6gpqFwMlh",
        "outputId": "1ae22097-24a8-4118-bd05-2671274089dc"
      },
      "execution_count": null,
      "outputs": [
        {
          "output_type": "stream",
          "name": "stdout",
          "text": [
            "포도\n",
            "딸기\n",
            "수박\n"
          ]
        }
      ]
    },
    {
      "cell_type": "code",
      "source": [
        "a=b=c = \"오렌지\"\n",
        "print(a)\n",
        "print(b)\n",
        "print(c)"
      ],
      "metadata": {
        "colab": {
          "base_uri": "https://localhost:8080/"
        },
        "id": "je099aqNwa6h",
        "outputId": "17fc55fa-f82a-4d06-96b9-f62b87108850"
      },
      "execution_count": null,
      "outputs": [
        {
          "output_type": "stream",
          "name": "stdout",
          "text": [
            "오렌지\n",
            "오렌지\n",
            "오렌지\n"
          ]
        }
      ]
    },
    {
      "cell_type": "code",
      "source": [
        "friuts = [\"포도\", \"딸기\", \"수박\"]\n",
        "x,y,z = friuts\n",
        "print(x)\n",
        "print(y)\n",
        "print(z)"
      ],
      "metadata": {
        "colab": {
          "base_uri": "https://localhost:8080/"
        },
        "id": "WK_evnebw8jb",
        "outputId": "8c292025-525b-488a-f959-a7815b940939"
      },
      "execution_count": null,
      "outputs": [
        {
          "output_type": "stream",
          "name": "stdout",
          "text": [
            "포도\n",
            "딸기\n",
            "수박\n"
          ]
        }
      ]
    },
    {
      "cell_type": "code",
      "source": [
        "x = \"Life\"\n",
        "y = \"is\"\n",
        "z = \"Beautiful\"\n",
        "print(x,y,z)\n",
        "print(x+y+z)"
      ],
      "metadata": {
        "colab": {
          "base_uri": "https://localhost:8080/"
        },
        "id": "XZciwGfRx2mE",
        "outputId": "6d2febd9-315f-43e5-d056-3a0980a05ba8"
      },
      "execution_count": null,
      "outputs": [
        {
          "output_type": "stream",
          "name": "stdout",
          "text": [
            "Life is Beautiful\n",
            "LifeisBeautiful\n"
          ]
        }
      ]
    },
    {
      "cell_type": "code",
      "source": [
        "a=1\n",
        "b=2\n",
        "c=3\n",
        "print(a,b,c)\n",
        "print(a+b+c)"
      ],
      "metadata": {
        "colab": {
          "base_uri": "https://localhost:8080/"
        },
        "id": "5nYU8csFyLhA",
        "outputId": "b73bcfc3-b7e8-4c1c-97da-d58de358ba5d"
      },
      "execution_count": null,
      "outputs": [
        {
          "output_type": "stream",
          "name": "stdout",
          "text": [
            "1 2 3\n",
            "6\n"
          ]
        }
      ]
    },
    {
      "cell_type": "markdown",
      "source": [
        "#### 데이터 유형\n",
        "* 텍스트\n",
        "* 숫자\n",
        "* 불(bool)"
      ],
      "metadata": {
        "id": "NaYGe020ypuy"
      }
    },
    {
      "cell_type": "code",
      "source": [
        "a=100\n",
        "b=200\n",
        "sum = a+b\n",
        "c=a-b\n",
        "d=a*b\n",
        "e=a/b\n",
        "print(a,\"+\", b, \"=\", sum)\n",
        "print(a, \"-\", b, \"=\", c)\n",
        "print(a, \"*\", b, \"=\", d)\n",
        "print(a, \"/\", b, \"=\", e)"
      ],
      "metadata": {
        "colab": {
          "base_uri": "https://localhost:8080/"
        },
        "id": "-OK-seudzNJJ",
        "outputId": "17fbf04a-421a-42fd-dddc-e384c49089bc"
      },
      "execution_count": null,
      "outputs": [
        {
          "output_type": "stream",
          "name": "stdout",
          "text": [
            "100 + 200 = 300\n",
            "100 - 200 = -100\n",
            "100 * 200 = 20000\n",
            "100 / 200 = 0.5\n"
          ]
        }
      ]
    },
    {
      "cell_type": "markdown",
      "source": [
        "#### input() 함수 이용한 계산기"
      ],
      "metadata": {
        "id": "yWQjNMdBA5In"
      }
    },
    {
      "cell_type": "code",
      "source": [
        "a=int(input(\"첫번째 숫자를 입력하세요: \"))\n",
        "b=int(input(\"두번째 숫자를 입력하세요: \"))\n",
        "result = a+b\n",
        "print(a,'+',b,'=',result )\n",
        "result = a-b\n",
        "print(a,'-',b,'=',result )\n",
        "result = a*b\n",
        "print(a,'*',b,'=',result )\n",
        "result = a/b\n",
        "print(a,'/',b,'=',result )"
      ],
      "metadata": {
        "colab": {
          "base_uri": "https://localhost:8080/"
        },
        "id": "eC1i0mUIA9__",
        "outputId": "602d3930-b7ba-4815-8261-9f6184d45937"
      },
      "execution_count": null,
      "outputs": [
        {
          "output_type": "stream",
          "name": "stdout",
          "text": [
            "첫번째 숫자를 입력하세요: 20\n",
            "두번째 숫자를 입력하세요: 2\n",
            "20 + 2 = 22\n",
            "20 - 2 = 18\n",
            "20 * 2 = 40\n",
            "20 / 2 = 10.0\n"
          ]
        }
      ]
    },
    {
      "cell_type": "code",
      "source": [
        "a=int(input(\"첫번째 숫자를 입력하세요: \"))\n",
        "b=int(input(\"두번째 숫자를 입력하세요: \"))\n",
        "result = a//b\n",
        "print(a,'//',b,'=',result )\n",
        "result = a%b\n",
        "print(a,'%',b,'=',result )\n",
        "result = a**b\n",
        "print(a,'**',b,'=',result )"
      ],
      "metadata": {
        "colab": {
          "base_uri": "https://localhost:8080/"
        },
        "id": "VQI3mBMPBwkf",
        "outputId": "631acfa7-5b66-480b-ca89-d4c9abed7387"
      },
      "execution_count": null,
      "outputs": [
        {
          "output_type": "stream",
          "name": "stdout",
          "text": [
            "첫번째 숫자를 입력하세요: 10\n",
            "두번째 숫자를 입력하세요: 4\n",
            "10 // 4 = 2\n",
            "10 % 4 = 2\n",
            "10 ** 4 = 10000\n"
          ]
        }
      ]
    },
    {
      "cell_type": "code",
      "source": [
        "num1 = input(\"숫자입력1: \")\n",
        "num2 = input(\"숫자입력2: \")\n",
        "result = num1 + num2\n",
        "print(type(num1))\n",
        "print(num1,'+',num2,'=',result)"
      ],
      "metadata": {
        "colab": {
          "base_uri": "https://localhost:8080/"
        },
        "id": "iZUayhd-DftK",
        "outputId": "f1cc2c6a-1ff6-479d-8ee7-ec3668ba4562"
      },
      "execution_count": null,
      "outputs": [
        {
          "output_type": "stream",
          "name": "stdout",
          "text": [
            "숫자입력1: 100\n",
            "숫자입력2: 200\n",
            "<class 'str'>\n",
            "100 + 200 = 100200\n"
          ]
        }
      ]
    },
    {
      "cell_type": "markdown",
      "source": [
        "#quiz: \n",
        "## 전화번호, 이름,무게를 입력받아 출력: \n",
        "#### 입력한 내용은 이름\"00\"\n",
        "#### 전화번호\"00\" 입니다\n",
        "#### 무게는 입력한 g수 x 10원=산출 금액 출력\n",
        "#### 산출금액은 \"00\"원입니다"
      ],
      "metadata": {
        "id": "v7UqwqBvEbmI"
      }
    },
    {
      "cell_type": "code",
      "source": [
        "a=input(\"전화번호를 입력하세요: \")\n",
        "b=input(\"이름을 입력하세요: \")\n",
        "c=int(input(\"무게를 입력하세요: \"))\n",
        "result=a\n",
        "print(\"전화번호는\",result,\"입니다\" )\n",
        "result=b\n",
        "print(\"이름은\",result,\"입니다\" )\n",
        "result=c\n",
        "print(\"무게는\",result,\"g입니다\" )\n",
        "result=c*10\n",
        "print(\"산출금액은\",result,\"원입니다\" )"
      ],
      "metadata": {
        "colab": {
          "base_uri": "https://localhost:8080/"
        },
        "id": "BKzaxvk6FOjC",
        "outputId": "9db2a649-a3c6-4a40-fe7c-7b272133e6a4"
      },
      "execution_count": null,
      "outputs": [
        {
          "output_type": "stream",
          "name": "stdout",
          "text": [
            "전화번호를 입력하세요: 010 1234 5678\n",
            "이름을 입력하세요: 공민석\n",
            "무게를 입력하세요: 60\n",
            "전화번호는 010 1234 5678 입니다\n",
            "이름은 공민석 입니다\n",
            "무게는 60 g입니다\n",
            "산출금액은 600 원입니다\n"
          ]
        }
      ]
    },
    {
      "cell_type": "markdown",
      "source": [
        "#### 2. print() 서식 출력"
      ],
      "metadata": {
        "id": "fgGw-P58i3Dm"
      }
    },
    {
      "cell_type": "code",
      "source": [
        "print(\"%d\" % 123)\n",
        "print(\"%5d\" % 123)\n",
        "print(\"%05d\" % 123)\n",
        "\n",
        "print(\"%f\" % 123.45)\n",
        "print(\"%7.1f\" % 123.45)\n",
        "print(\"%7.3f\" % 123.45)\n",
        "\n",
        "print(\"%s\" % \"대한민국\")\n",
        "print(\"%6s\" % \"대한민국\")"
      ],
      "metadata": {
        "colab": {
          "base_uri": "https://localhost:8080/"
        },
        "id": "7oii6eTXi7yD",
        "outputId": "8c6bf4d6-33ad-4a70-806e-f9ea5c8aedd6"
      },
      "execution_count": null,
      "outputs": [
        {
          "output_type": "stream",
          "name": "stdout",
          "text": [
            "123\n",
            "  123\n",
            "00123\n",
            "123.450000\n",
            "  123.5\n",
            "123.450\n",
            "대한민국\n",
            "  대한민국\n"
          ]
        }
      ]
    },
    {
      "cell_type": "markdown",
      "source": [
        "#### Format 함수 : 순서 지정 가능"
      ],
      "metadata": {
        "id": "umf9HjQBkuwu"
      }
    },
    {
      "cell_type": "code",
      "source": [
        "print(\"{0:d}{1:5d}{2:05d}\".format(123,456,789))"
      ],
      "metadata": {
        "colab": {
          "base_uri": "https://localhost:8080/"
        },
        "id": "0zo0bUO7kCYB",
        "outputId": "366f74e4-0006-4325-de16-478a6fc1037c"
      },
      "execution_count": null,
      "outputs": [
        {
          "output_type": "stream",
          "name": "stdout",
          "text": [
            "123  45600789\n"
          ]
        }
      ]
    },
    {
      "cell_type": "code",
      "source": [
        "print(\"{2:d}{1:5d}{0:05d}\".format(123,456,789))"
      ],
      "metadata": {
        "colab": {
          "base_uri": "https://localhost:8080/"
        },
        "id": "sqjjdts_kayq",
        "outputId": "f81a8bcf-df63-42e1-9c95-f94e819f29b1"
      },
      "execution_count": null,
      "outputs": [
        {
          "output_type": "stream",
          "name": "stdout",
          "text": [
            "789  45600123\n"
          ]
        }
      ]
    },
    {
      "cell_type": "markdown",
      "source": [
        "#### 서식 출력"
      ],
      "metadata": {
        "id": "YI3VXDTLk63e"
      }
    },
    {
      "cell_type": "code",
      "source": [
        "print(\"\\n줄바꿈\\n연습입니다.\")"
      ],
      "metadata": {
        "colab": {
          "base_uri": "https://localhost:8080/"
        },
        "id": "u16KCFaMlMIO",
        "outputId": "53c59fb9-6e33-4e96-a049-e60cdce147be"
      },
      "execution_count": null,
      "outputs": [
        {
          "output_type": "stream",
          "name": "stdout",
          "text": [
            "\n",
            "줄바꿈\n",
            "연습입니다.\n"
          ]
        }
      ]
    },
    {
      "cell_type": "code",
      "source": [
        "print(\"\\t탭키\\t연습\")"
      ],
      "metadata": {
        "colab": {
          "base_uri": "https://localhost:8080/"
        },
        "id": "7qH6oZgHlUf6",
        "outputId": "97c35688-2731-4548-f448-90a8b6633c55"
      },
      "execution_count": null,
      "outputs": [
        {
          "output_type": "stream",
          "name": "stdout",
          "text": [
            "\t탭키\t연습\n"
          ]
        }
      ]
    },
    {
      "cell_type": "code",
      "source": [
        "print(\"글자가 \\\"강조\\\"되는 효과1\")\n",
        "print(\"글자가 \\'강조\\'되는 효과2\")\n",
        "print(\"역슬레시 3개출력 \\\\\\\\\\\\\")\n",
        "print(r\"\\n \\t \\\" \\\\를 그대로 출력\") #그대로 출력"
      ],
      "metadata": {
        "colab": {
          "base_uri": "https://localhost:8080/"
        },
        "id": "qfu9SJw6ldAk",
        "outputId": "1a4e3dab-9b04-4ba6-889b-fcae71effbac"
      },
      "execution_count": null,
      "outputs": [
        {
          "output_type": "stream",
          "name": "stdout",
          "text": [
            "글자가 \"강조\"되는 효과1\n",
            "글자가 '강조'되는 효과2\n",
            "역슬레시 3개출력 \\\\\\\n",
            "\\n \\t \\\" \\\\를 그대로 출력\n"
          ]
        }
      ]
    },
    {
      "cell_type": "markdown",
      "source": [
        "#### 관계연산자"
      ],
      "metadata": {
        "id": "v4vIr0dlosPN"
      }
    },
    {
      "cell_type": "code",
      "source": [
        "a,b = 10,20\n",
        "print(a==b, a!=b, a>b, a<b, a>=b, a<=b)"
      ],
      "metadata": {
        "colab": {
          "base_uri": "https://localhost:8080/"
        },
        "id": "dMb9VkxJouXN",
        "outputId": "068957e3-feda-45cb-b5d0-b5e59bf0972c"
      },
      "execution_count": null,
      "outputs": [
        {
          "output_type": "stream",
          "name": "stdout",
          "text": [
            "False True False True False True\n"
          ]
        }
      ]
    },
    {
      "cell_type": "markdown",
      "source": [
        "#### 논리연산자"
      ],
      "metadata": {
        "id": "dwdx0-mTpBWa"
      }
    },
    {
      "cell_type": "code",
      "source": [
        "a = 99\n",
        "print((a>100) and (a<200))\n",
        "print((a>100)or(a<200))\n",
        "print(not(a==100))"
      ],
      "metadata": {
        "colab": {
          "base_uri": "https://localhost:8080/"
        },
        "id": "Ks7_3w6ipDlx",
        "outputId": "5126e906-cd93-4dbc-d8b8-6fef31bd3ef9"
      },
      "execution_count": null,
      "outputs": [
        {
          "output_type": "stream",
          "name": "stdout",
          "text": [
            "False\n",
            "True\n",
            "True\n"
          ]
        }
      ]
    },
    {
      "cell_type": "code",
      "source": [
        "if(123):\n",
        "  print(\"참이면 보입니다\")\n",
        "if(0):\n",
        "  print(\"거짓이면 안 보입니다\")  "
      ],
      "metadata": {
        "colab": {
          "base_uri": "https://localhost:8080/"
        },
        "id": "Ez1CnIu_pjBm",
        "outputId": "5979b14b-ba48-4b0f-bc80-deba5b9f916a"
      },
      "execution_count": null,
      "outputs": [
        {
          "output_type": "stream",
          "name": "stdout",
          "text": [
            "참이면 보입니다\n"
          ]
        }
      ]
    },
    {
      "cell_type": "markdown",
      "source": [
        "#### 퀴즈2 숫자 입력 받아 동전으로 바꿔주는 프로그램 \n",
        "#### (500원, 100원, 50원, 10원)"
      ],
      "metadata": {
        "id": "ZWdmL6G9vrx2"
      }
    },
    {
      "cell_type": "code",
      "source": [
        "bill,c500,c100,c50,c10 = 0,0,0,0,0\n",
        "bill=int(input(\"바꿀돈은?:\"))\n",
        "c500 = bill//500\n",
        "bill%=500\n",
        "c100=bill//100\n",
        "bill%=100\n",
        "c50=bill//50\n",
        "bill%=50\n",
        "c10=bill//10\n",
        "bill%=10\n",
        "print(\"500원짜리:%d개\" % c500)\n",
        "print(\"100원짜리:%d개\" % c100)\n",
        "print(\"50원짜리:%d개\" % c50)\n",
        "print(\"10원짜리:%d개\" % c10)\n",
        "print(\"잔돈:%d원\" % bill)"
      ],
      "metadata": {
        "colab": {
          "base_uri": "https://localhost:8080/"
        },
        "id": "NOUXYulfv7Xq",
        "outputId": "e4061098-0845-48e2-cdf7-0f69513eaa9e"
      },
      "execution_count": null,
      "outputs": [
        {
          "output_type": "stream",
          "name": "stdout",
          "text": [
            "바꿀돈은?:1500\n",
            "500원짜리:3개\n",
            "100원짜리:0개\n",
            "50원짜리:0개\n",
            "10원짜리:0개\n",
            "잔돈:0원\n"
          ]
        }
      ]
    },
    {
      "cell_type": "markdown",
      "source": [
        "####조건문"
      ],
      "metadata": {
        "id": "CfxEbzJF1Huk"
      }
    },
    {
      "cell_type": "code",
      "source": [
        "a=300\n",
        "if(a<100):\n",
        "  print(\"100보다 작음\")\n",
        "else:\n",
        "  print(\"100보다 크다\")\n",
        "print(\"프로그램 끝\")"
      ],
      "metadata": {
        "colab": {
          "base_uri": "https://localhost:8080/"
        },
        "id": "i0rcIBS21JWn",
        "outputId": "12864065-a4e6-4df4-aeb8-35b9c4336610"
      },
      "execution_count": null,
      "outputs": [
        {
          "output_type": "stream",
          "name": "stdout",
          "text": [
            "100보다 크다\n",
            "프로그램 끝\n"
          ]
        }
      ]
    },
    {
      "cell_type": "code",
      "source": [
        "#홀짝 구분\n",
        "a=int(input(\"정수를 입력하세요:\"))\n",
        "if(a%2==0):\n",
        "  print(\"짝수\")\n",
        "else:\n",
        "  print(\"홀수\")"
      ],
      "metadata": {
        "colab": {
          "base_uri": "https://localhost:8080/"
        },
        "id": "A1xnw6QP2TfA",
        "outputId": "a5ad0410-071c-401c-e484-1a17def6e4f8"
      },
      "execution_count": null,
      "outputs": [
        {
          "output_type": "stream",
          "name": "stdout",
          "text": [
            "정수를 입력하세요:3\n",
            "홀수\n"
          ]
        }
      ]
    },
    {
      "cell_type": "code",
      "source": [
        "a=120\n",
        "if(a>50):\n",
        "  if(a<100):\n",
        "    print(\"50<a<100\")\n",
        "  else:\n",
        "    print(\"a>100\")\n",
        "else:\n",
        "  print(\"a<50\")"
      ],
      "metadata": {
        "colab": {
          "base_uri": "https://localhost:8080/"
        },
        "id": "mIIDa6Q_29yn",
        "outputId": "40bb2cab-9d81-42b7-d06a-594e782fb768"
      },
      "execution_count": null,
      "outputs": [
        {
          "output_type": "stream",
          "name": "stdout",
          "text": [
            "a>100\n"
          ]
        }
      ]
    },
    {
      "cell_type": "code",
      "source": [
        "fruit=['사과','배','감','포도']\n",
        "fruit. append('딸기')\n",
        "if '딸기' not in fruit :\n",
        "  print(\"딸기가 있습니다\")\n",
        "print(\"딸기가 없음\") \n",
        "print(fruit)"
      ],
      "metadata": {
        "colab": {
          "base_uri": "https://localhost:8080/"
        },
        "id": "qrZorQY67fWz",
        "outputId": "d72e7e2a-e2c0-41b5-90e9-042f72e83ef5"
      },
      "execution_count": null,
      "outputs": [
        {
          "output_type": "stream",
          "name": "stdout",
          "text": [
            "딸기가 없음\n",
            "['사과', '배', '감', '포도', '딸기']\n"
          ]
        }
      ]
    },
    {
      "cell_type": "code",
      "source": [
        "fruit=['사과','배','감','포도']\n",
        "fruit. append('딸기')\n",
        "if '딸기' in fruit :\n",
        "  print(\"딸기가 있습니다\")\n",
        "print(fruit)"
      ],
      "metadata": {
        "colab": {
          "base_uri": "https://localhost:8080/"
        },
        "id": "DRr20ZaA9CHd",
        "outputId": "c5aa08e1-8cd6-4e96-9a7b-a61ccb786693"
      },
      "execution_count": null,
      "outputs": [
        {
          "output_type": "stream",
          "name": "stdout",
          "text": [
            "딸기가 있습니다\n",
            "['사과', '배', '감', '포도', '딸기']\n"
          ]
        }
      ]
    },
    {
      "cell_type": "code",
      "source": [
        "import random\n",
        "\n",
        "number=[]\n",
        "for num in range(0,7):\n",
        "  number.append(random.randrange(1,46))\n",
        "print(\"생성된 리스트\", number)"
      ],
      "metadata": {
        "colab": {
          "base_uri": "https://localhost:8080/"
        },
        "id": "-TVO_l4i9KKk",
        "outputId": "9f1782a5-00d4-4f4e-ad70-27595655df88"
      },
      "execution_count": null,
      "outputs": [
        {
          "output_type": "stream",
          "name": "stdout",
          "text": [
            "생성된 리스트 [23, 13, 37, 24, 28, 30, 21]\n"
          ]
        }
      ]
    },
    {
      "cell_type": "markdown",
      "source": [
        "#### 반복문"
      ],
      "metadata": {
        "id": "x9sdpzVR-ehJ"
      }
    },
    {
      "cell_type": "code",
      "source": [
        "for i in range(0,3,1): #시작값, 끝값+1,증가값\n",
        "  print(\"안녕하세요\") #반복내용\n",
        "  print(i)\n",
        "print(\"반갑습니다\")"
      ],
      "metadata": {
        "colab": {
          "base_uri": "https://localhost:8080/"
        },
        "id": "_9dsh0Ny-gJ3",
        "outputId": "46ea8a83-37a1-4c69-8b27-bdea2c458f53"
      },
      "execution_count": null,
      "outputs": [
        {
          "output_type": "stream",
          "name": "stdout",
          "text": [
            "0 안녕하세요\n",
            "1 안녕하세요\n",
            "2 안녕하세요\n",
            "반갑습니다\n"
          ]
        }
      ]
    },
    {
      "cell_type": "code",
      "source": [
        "for i in range(0,3,1): #시작값, 끝값+1,증가값\n",
        "  print(\"%d 안녕하세요\"% i) #반복내용\n",
        "  #print(i)\n",
        "print(\"반갑습니다\")"
      ],
      "metadata": {
        "colab": {
          "base_uri": "https://localhost:8080/"
        },
        "id": "Di9byg_5_vLv",
        "outputId": "02d3aa7e-f8c4-4340-afc5-c54ec360a4e5"
      },
      "execution_count": null,
      "outputs": [
        {
          "output_type": "stream",
          "name": "stdout",
          "text": [
            "0 안녕하세요\n",
            "1 안녕하세요\n",
            "2 안녕하세요\n",
            "반갑습니다\n"
          ]
        }
      ]
    },
    {
      "cell_type": "code",
      "source": [
        "for i in range(1,9,1):\n",
        "  print(\"%d \"% i, end=\"\")\n",
        "print(\"\\n\")\n",
        "for i in range(1,9,1):\n",
        "  print(\"%d\"% i, end=\" \")"
      ],
      "metadata": {
        "colab": {
          "base_uri": "https://localhost:8080/"
        },
        "id": "Bp7_eo93_zB4",
        "outputId": "81e11ecd-35ee-4764-b0a3-27372b111c8c"
      },
      "execution_count": null,
      "outputs": [
        {
          "output_type": "stream",
          "name": "stdout",
          "text": [
            "1 2 3 4 5 6 7 8 \n",
            "\n",
            "1 2 3 4 5 6 7 8 "
          ]
        }
      ]
    },
    {
      "cell_type": "code",
      "source": [
        "sum=0\n",
        "for i in range(1,11,1):\n",
        "  sum=sum+i\n",
        "print(\"1~10까지 합계:%d\" % sum)\n",
        " "
      ],
      "metadata": {
        "colab": {
          "base_uri": "https://localhost:8080/"
        },
        "id": "YTcXtA6xBEjj",
        "outputId": "d5568410-4d5a-4e9e-8aba-f4b8a1946900"
      },
      "execution_count": null,
      "outputs": [
        {
          "output_type": "stream",
          "name": "stdout",
          "text": [
            "1~10까지 합계:55\n"
          ]
        }
      ]
    },
    {
      "cell_type": "markdown",
      "source": [
        "#### quiz3 : 숫자 입력 받아 1부터 입력된 숫자까지의 합, 곱"
      ],
      "metadata": {
        "id": "m-F9mmCKB1Ln"
      }
    },
    {
      "cell_type": "code",
      "source": [
        "sum,num=0,0\n",
        "num=int(input(\"숫자를 입력하세요:\"))\n",
        "for i in range(1,num+1):\n",
        "  sum=sum+i\n",
        "print(\"1~num까지 합:%d\" % sum)"
      ],
      "metadata": {
        "colab": {
          "base_uri": "https://localhost:8080/"
        },
        "id": "g68MzmtbB9i7",
        "outputId": "82dcc943-4b0a-45ac-8b8d-dc34bdc7b804"
      },
      "execution_count": null,
      "outputs": [
        {
          "output_type": "stream",
          "name": "stdout",
          "text": [
            "숫자를 입력하세요:9\n",
            "1~num까지 합:45\n"
          ]
        }
      ]
    },
    {
      "cell_type": "markdown",
      "source": [
        "중첩 for문"
      ],
      "metadata": {
        "id": "TjlOSUifDqN4"
      }
    },
    {
      "cell_type": "code",
      "source": [
        "i,j,k=0,0,0\n",
        "k=int(input(\"구구단 단수 입력\"))\n",
        "for i in range(1,10,1):\n",
        "  print(\"%d x %d=%2d\" %(k,i,k*i))\n",
        "print(\"\")\n"
      ],
      "metadata": {
        "colab": {
          "base_uri": "https://localhost:8080/"
        },
        "id": "rCql9dP9Duq9",
        "outputId": "8e38ec20-e9a6-42d5-ed38-96a17e5e93a3"
      },
      "execution_count": null,
      "outputs": [
        {
          "output_type": "stream",
          "name": "stdout",
          "text": [
            "구구단 단수 입력9\n",
            "9 x 1= 9\n",
            "9 x 2=18\n",
            "9 x 3=27\n",
            "9 x 4=36\n",
            "9 x 5=45\n",
            "9 x 6=54\n",
            "9 x 7=63\n",
            "9 x 8=72\n",
            "9 x 9=81\n",
            "\n"
          ]
        }
      ]
    },
    {
      "cell_type": "code",
      "source": [
        "i,j,k=0,0,0\n",
        "for i in range(2,6,1):\n",
        "  for j in range(1,10,1):\n",
        "    print(\"%d x %d=%2d\" %(i,j,i*j))\n",
        "print(\"\")"
      ],
      "metadata": {
        "colab": {
          "base_uri": "https://localhost:8080/"
        },
        "id": "JMzNIsIxFgnl",
        "outputId": "508c62ce-395b-46c9-ca2c-b4d9e0cadc3a"
      },
      "execution_count": null,
      "outputs": [
        {
          "output_type": "stream",
          "name": "stdout",
          "text": [
            "2 x 1= 2\n",
            "2 x 2= 4\n",
            "2 x 3= 6\n",
            "2 x 4= 8\n",
            "2 x 5=10\n",
            "2 x 6=12\n",
            "2 x 7=14\n",
            "2 x 8=16\n",
            "2 x 9=18\n",
            "3 x 1= 3\n",
            "3 x 2= 6\n",
            "3 x 3= 9\n",
            "3 x 4=12\n",
            "3 x 5=15\n",
            "3 x 6=18\n",
            "3 x 7=21\n",
            "3 x 8=24\n",
            "3 x 9=27\n",
            "4 x 1= 4\n",
            "4 x 2= 8\n",
            "4 x 3=12\n",
            "4 x 4=16\n",
            "4 x 5=20\n",
            "4 x 6=24\n",
            "4 x 7=28\n",
            "4 x 8=32\n",
            "4 x 9=36\n",
            "5 x 1= 5\n",
            "5 x 2=10\n",
            "5 x 3=15\n",
            "5 x 4=20\n",
            "5 x 5=25\n",
            "5 x 6=30\n",
            "5 x 7=35\n",
            "5 x 8=40\n",
            "5 x 9=45\n",
            "\n"
          ]
        }
      ]
    },
    {
      "cell_type": "markdown",
      "source": [
        "#### 과제 2,3,4,5단 옆줄에 6,7,8,9단"
      ],
      "metadata": {
        "id": "cK07Tf0zIxUR"
      }
    },
    {
      "cell_type": "code",
      "source": [
        "i,j=0,0\n",
        "for i in range(2,6,1):\n",
        "  for j in range(1,10,1):\n",
        "    print(\"%d x %d=%2d \\t\" %(i,j,i*j), end='')\n",
        "print(\"\")\n",
        "\n",
        "a,b=0,0\n",
        "for a in range(6,10,1):\n",
        "  for b in range(1,10,1):\n",
        "    print(\"%d x %d=%2d \\t\" %(a,b,a*b), end='')\n",
        "print(\"\")\n"
      ],
      "metadata": {
        "colab": {
          "base_uri": "https://localhost:8080/"
        },
        "id": "VD_xLX7OHgxp",
        "outputId": "48259867-d1e7-4a95-86d6-9239fddb5777"
      },
      "execution_count": null,
      "outputs": [
        {
          "output_type": "stream",
          "name": "stdout",
          "text": [
            "2 x 1= 2 \t2 x 2= 4 \t2 x 3= 6 \t2 x 4= 8 \t2 x 5=10 \t2 x 6=12 \t2 x 7=14 \t2 x 8=16 \t2 x 9=18 \t3 x 1= 3 \t3 x 2= 6 \t3 x 3= 9 \t3 x 4=12 \t3 x 5=15 \t3 x 6=18 \t3 x 7=21 \t3 x 8=24 \t3 x 9=27 \t4 x 1= 4 \t4 x 2= 8 \t4 x 3=12 \t4 x 4=16 \t4 x 5=20 \t4 x 6=24 \t4 x 7=28 \t4 x 8=32 \t4 x 9=36 \t5 x 1= 5 \t5 x 2=10 \t5 x 3=15 \t5 x 4=20 \t5 x 5=25 \t5 x 6=30 \t5 x 7=35 \t5 x 8=40 \t5 x 9=45 \t\n",
            "6 x 1= 6 \t6 x 2=12 \t6 x 3=18 \t6 x 4=24 \t6 x 5=30 \t6 x 6=36 \t6 x 7=42 \t6 x 8=48 \t6 x 9=54 \t7 x 1= 7 \t7 x 2=14 \t7 x 3=21 \t7 x 4=28 \t7 x 5=35 \t7 x 6=42 \t7 x 7=49 \t7 x 8=56 \t7 x 9=63 \t8 x 1= 8 \t8 x 2=16 \t8 x 3=24 \t8 x 4=32 \t8 x 5=40 \t8 x 6=48 \t8 x 7=56 \t8 x 8=64 \t8 x 9=72 \t9 x 1= 9 \t9 x 2=18 \t9 x 3=27 \t9 x 4=36 \t9 x 5=45 \t9 x 6=54 \t9 x 7=63 \t9 x 8=72 \t9 x 9=81 \t\n"
          ]
        }
      ]
    },
    {
      "cell_type": "code",
      "source": [
        "a,b=0,0\n",
        "for a in range(1,10,1):\n",
        "  for b in range(2,6,1):\n",
        "    print(\"%d x %d = %2d\" % (b,a,a*b), end='\\t')\n",
        "  print(\"\")\n",
        "print(\"\\n\")\n",
        "\n",
        "i,j=0,0\n",
        "for i in range(1,10,1):\n",
        "  for j in range(6,10,1):\n",
        "    print(\"%d x %d = %2d\" % (j,i,j*i), end='\\t')\n",
        "  print(\"\")"
      ],
      "metadata": {
        "colab": {
          "base_uri": "https://localhost:8080/"
        },
        "id": "czJJSebGJE5d",
        "outputId": "4e9ff8ef-1011-4be9-f9af-760bb98e68bd"
      },
      "execution_count": null,
      "outputs": [
        {
          "output_type": "stream",
          "name": "stdout",
          "text": [
            "2 x 1 =  2\t3 x 1 =  3\t4 x 1 =  4\t5 x 1 =  5\t\n",
            "2 x 2 =  4\t3 x 2 =  6\t4 x 2 =  8\t5 x 2 = 10\t\n",
            "2 x 3 =  6\t3 x 3 =  9\t4 x 3 = 12\t5 x 3 = 15\t\n",
            "2 x 4 =  8\t3 x 4 = 12\t4 x 4 = 16\t5 x 4 = 20\t\n",
            "2 x 5 = 10\t3 x 5 = 15\t4 x 5 = 20\t5 x 5 = 25\t\n",
            "2 x 6 = 12\t3 x 6 = 18\t4 x 6 = 24\t5 x 6 = 30\t\n",
            "2 x 7 = 14\t3 x 7 = 21\t4 x 7 = 28\t5 x 7 = 35\t\n",
            "2 x 8 = 16\t3 x 8 = 24\t4 x 8 = 32\t5 x 8 = 40\t\n",
            "2 x 9 = 18\t3 x 9 = 27\t4 x 9 = 36\t5 x 9 = 45\t\n",
            "\n",
            "\n",
            "6 x 1 =  6\t7 x 1 =  7\t8 x 1 =  8\t9 x 1 =  9\t\n",
            "6 x 2 = 12\t7 x 2 = 14\t8 x 2 = 16\t9 x 2 = 18\t\n",
            "6 x 3 = 18\t7 x 3 = 21\t8 x 3 = 24\t9 x 3 = 27\t\n",
            "6 x 4 = 24\t7 x 4 = 28\t8 x 4 = 32\t9 x 4 = 36\t\n",
            "6 x 5 = 30\t7 x 5 = 35\t8 x 5 = 40\t9 x 5 = 45\t\n",
            "6 x 6 = 36\t7 x 6 = 42\t8 x 6 = 48\t9 x 6 = 54\t\n",
            "6 x 7 = 42\t7 x 7 = 49\t8 x 7 = 56\t9 x 7 = 63\t\n",
            "6 x 8 = 48\t7 x 8 = 56\t8 x 8 = 64\t9 x 8 = 72\t\n",
            "6 x 9 = 54\t7 x 9 = 63\t8 x 9 = 72\t9 x 9 = 81\t\n"
          ]
        }
      ]
    },
    {
      "cell_type": "markdown",
      "source": [
        "# CH3. 자료형 \n",
        "## 1. 인덱스와 슬라이싱"
      ],
      "metadata": {
        "id": "w1p7JRtVqP6c"
      }
    },
    {
      "cell_type": "code",
      "source": [
        "L = [0,1,2,3,4,5,6,7,8,9]\n",
        "print(L[1])"
      ],
      "metadata": {
        "colab": {
          "base_uri": "https://localhost:8080/"
        },
        "id": "pGZBUznNqdUh",
        "outputId": "7d8d9754-3dc0-446b-93e5-b8d45be2eaae"
      },
      "execution_count": null,
      "outputs": [
        {
          "output_type": "stream",
          "name": "stdout",
          "text": [
            "1\n"
          ]
        }
      ]
    },
    {
      "cell_type": "code",
      "source": [
        "L = [0,1,2,3,4,5,6,7,8,9]\n",
        "print(L[-2])"
      ],
      "metadata": {
        "colab": {
          "base_uri": "https://localhost:8080/"
        },
        "id": "8HT59ax8roUB",
        "outputId": "24af64d8-936d-4853-a0be-8080a5f9cba9"
      },
      "execution_count": null,
      "outputs": [
        {
          "output_type": "stream",
          "name": "stdout",
          "text": [
            "8\n"
          ]
        }
      ]
    },
    {
      "cell_type": "code",
      "source": [
        "L = [0,1,2,3,4,5,6,7,8,9]\n",
        "print(L[0:8:3])"
      ],
      "metadata": {
        "colab": {
          "base_uri": "https://localhost:8080/"
        },
        "id": "2ASjzpcgrHhE",
        "outputId": "5e11393c-b1cd-4a69-d22e-faff1eecced0"
      },
      "execution_count": null,
      "outputs": [
        {
          "output_type": "stream",
          "name": "stdout",
          "text": [
            "[0, 3, 6]\n"
          ]
        }
      ]
    },
    {
      "cell_type": "code",
      "source": [
        "L = [0,1,2,3,4,5,6,7,8,9]\n",
        "print(len(L))\n",
        "print(L[len(L)-4])"
      ],
      "metadata": {
        "colab": {
          "base_uri": "https://localhost:8080/"
        },
        "id": "zek2qjpgrWft",
        "outputId": "75cfb654-13f6-4905-8814-61dccd3309b3"
      },
      "execution_count": null,
      "outputs": [
        {
          "output_type": "stream",
          "name": "stdout",
          "text": [
            "10\n",
            "6\n"
          ]
        }
      ]
    },
    {
      "cell_type": "code",
      "source": [
        "L = [0,1,2,3,4,5,6,7,8,9]\n",
        "L[0] = 99\n",
        "L[9] = '가나다'\n",
        "L[1] = [1,2,3,4,]\n",
        "print(L)\n",
        "print(L[9])\n",
        "print(L[1])"
      ],
      "metadata": {
        "colab": {
          "base_uri": "https://localhost:8080/"
        },
        "id": "9D_mfl3Jr7F2",
        "outputId": "3bb3ee87-4cdb-4f0a-d6f4-7d8e8b3b8f73"
      },
      "execution_count": null,
      "outputs": [
        {
          "output_type": "stream",
          "name": "stdout",
          "text": [
            "[99, [1, 2, 3, 4], 2, 3, 4, 5, 6, 7, 8, '가나다']\n",
            "가나다\n",
            "[1, 2, 3, 4]\n"
          ]
        }
      ]
    },
    {
      "cell_type": "code",
      "source": [
        "a=[1,2,3]\n",
        "b=[4,5,6]\n",
        "c=a+b\n",
        "print(a+b)\n",
        "print(c)\n",
        "print(a*3)"
      ],
      "metadata": {
        "colab": {
          "base_uri": "https://localhost:8080/"
        },
        "id": "aZxls66Lsq87",
        "outputId": "77b83498-bd14-46ec-84da-d4307ef1361b"
      },
      "execution_count": null,
      "outputs": [
        {
          "output_type": "stream",
          "name": "stdout",
          "text": [
            "[1, 2, 3, 4, 5, 6]\n",
            "[1, 2, 3, 4, 5, 6]\n",
            "[1, 2, 3, 1, 2, 3, 1, 2, 3]\n"
          ]
        }
      ]
    },
    {
      "cell_type": "code",
      "source": [
        "L=[1,2,3,4,5]\n",
        "print(L)\n",
        "L.append(6) #리스트 뒤에 추가\n",
        "print(L)\n",
        "L.remove(3) #해당 요소값을 삭제\n",
        "print(L)"
      ],
      "metadata": {
        "colab": {
          "base_uri": "https://localhost:8080/"
        },
        "id": "hGk6EGVOs7FZ",
        "outputId": "1b869b65-a552-49f4-f61b-fd133795b647"
      },
      "execution_count": null,
      "outputs": [
        {
          "output_type": "stream",
          "name": "stdout",
          "text": [
            "[1, 2, 3, 4, 5]\n",
            "[1, 2, 3, 4, 5, 6]\n",
            "[1, 2, 4, 5, 6]\n"
          ]
        }
      ]
    },
    {
      "cell_type": "code",
      "source": [
        "k=['a','b','c','d']\n",
        "k.remove('d')\n",
        "print(k)"
      ],
      "metadata": {
        "colab": {
          "base_uri": "https://localhost:8080/"
        },
        "id": "uYWbTTsOtt6Y",
        "outputId": "ca5d37ee-ba54-48f4-d01b-034bf6cf3c1a"
      },
      "execution_count": null,
      "outputs": [
        {
          "output_type": "stream",
          "name": "stdout",
          "text": [
            "['a', 'b', 'c']\n"
          ]
        }
      ]
    },
    {
      "cell_type": "code",
      "source": [
        "k=\"God is love!\"\n",
        "print(k[:3])\n",
        "print(k[6:])\n",
        "print(k[-7:-2])"
      ],
      "metadata": {
        "colab": {
          "base_uri": "https://localhost:8080/"
        },
        "id": "9fGuGZN5wuVt",
        "outputId": "10b93a52-a225-4987-bebb-a873ac89848f"
      },
      "execution_count": null,
      "outputs": [
        {
          "output_type": "stream",
          "name": "stdout",
          "text": [
            "God\n",
            " love!\n",
            "s lov\n"
          ]
        }
      ]
    },
    {
      "cell_type": "code",
      "source": [
        "k=\"  God is love!\"\n",
        "print(k.upper())\n",
        "print(k.lower())\n",
        "print(k.strip())"
      ],
      "metadata": {
        "colab": {
          "base_uri": "https://localhost:8080/"
        },
        "id": "Y4Ynn-olxxgH",
        "outputId": "b6e3fca8-dbbc-468b-f434-544b8425ff1c"
      },
      "execution_count": null,
      "outputs": [
        {
          "output_type": "stream",
          "name": "stdout",
          "text": [
            "  GOD IS LOVE!\n",
            "  god is love!\n",
            "God is love!\n"
          ]
        }
      ]
    },
    {
      "cell_type": "code",
      "source": [
        "a=\"  God is love!  \"\n",
        "print(a.split(\",\"))"
      ],
      "metadata": {
        "colab": {
          "base_uri": "https://localhost:8080/"
        },
        "id": "bBJpuPNjySiL",
        "outputId": "4ef48c30-431b-4d7d-ca47-fe61d151dc13"
      },
      "execution_count": null,
      "outputs": [
        {
          "output_type": "stream",
          "name": "stdout",
          "text": [
            "['  God is love!  ']\n"
          ]
        }
      ]
    },
    {
      "cell_type": "code",
      "source": [
        "a=[\"apple\",\"banana\",\"cherry\"]\n",
        "a.append(\"melon\")\n",
        "print(a)"
      ],
      "metadata": {
        "colab": {
          "base_uri": "https://localhost:8080/"
        },
        "id": "MSBkqZR5y12h",
        "outputId": "2641a536-77ff-4d81-e9a9-14fecf69b66b"
      },
      "execution_count": null,
      "outputs": [
        {
          "output_type": "stream",
          "name": "stdout",
          "text": [
            "['apple', 'banana', 'cherry', 'melon']\n"
          ]
        }
      ]
    },
    {
      "cell_type": "code",
      "source": [
        "a=[\"apple\",\"banana\",\"cherry\"]\n",
        "a.insert(1,\"melon\") # 지정한 위치에 삽입\n",
        "print(a)"
      ],
      "metadata": {
        "colab": {
          "base_uri": "https://localhost:8080/"
        },
        "id": "RUzfTJxmzT0q",
        "outputId": "ed94a073-0891-4bba-b2db-467492b3531c"
      },
      "execution_count": null,
      "outputs": [
        {
          "output_type": "stream",
          "name": "stdout",
          "text": [
            "['apple', 'melon', 'banana', 'cherry']\n"
          ]
        }
      ]
    },
    {
      "cell_type": "code",
      "source": [
        "a=[\"apple\",\"banana\",\"cherry\"]\n",
        "a.remove(\"cherry\") # 해당 요소 삭제\n",
        "print(a)"
      ],
      "metadata": {
        "colab": {
          "base_uri": "https://localhost:8080/"
        },
        "id": "vFrpvEmBz2LN",
        "outputId": "621a7758-6c64-4e3b-cf3e-540e5f7329aa"
      },
      "execution_count": null,
      "outputs": [
        {
          "output_type": "stream",
          "name": "stdout",
          "text": [
            "['apple', 'banana']\n"
          ]
        }
      ]
    },
    {
      "cell_type": "code",
      "source": [
        "a=[\"apple\",\"banana\",\"cherry\"]\n",
        "a.pop() # 맨뒤 값 삭제\n",
        "print(a)\n",
        "a.pop(1) #지정한 위치 삭제 \n",
        "print(a)"
      ],
      "metadata": {
        "colab": {
          "base_uri": "https://localhost:8080/"
        },
        "id": "BCGDf-da0KnB",
        "outputId": "51cfb3b2-3ef1-4c76-fa74-7ca8b471d0dc"
      },
      "execution_count": null,
      "outputs": [
        {
          "output_type": "stream",
          "name": "stdout",
          "text": [
            "['apple', 'banana']\n",
            "['apple']\n"
          ]
        }
      ]
    },
    {
      "cell_type": "code",
      "source": [
        "a=[\"apple\",\"banana\",\"cherry\"]\n",
        "del a[0]\n",
        "print(a)\n",
        "a.clear()   #del a \n",
        "print(a)"
      ],
      "metadata": {
        "colab": {
          "base_uri": "https://localhost:8080/"
        },
        "id": "lc83VX_z0lCp",
        "outputId": "fc7a24f4-66f8-4c7b-ab8f-92375261cb8a"
      },
      "execution_count": null,
      "outputs": [
        {
          "output_type": "stream",
          "name": "stdout",
          "text": [
            "['banana', 'cherry']\n",
            "[]\n"
          ]
        }
      ]
    },
    {
      "cell_type": "code",
      "source": [
        "fruit=[\"apple\",\"banana\",\"cherry\"]\n",
        "for x in fruit:\n",
        "  print(x)"
      ],
      "metadata": {
        "colab": {
          "base_uri": "https://localhost:8080/"
        },
        "id": "m3gXt2VK1Jpu",
        "outputId": "2ba4cff4-dc39-4594-f048-86697f0ae785"
      },
      "execution_count": null,
      "outputs": [
        {
          "output_type": "stream",
          "name": "stdout",
          "text": [
            "apple\n",
            "banana\n",
            "cherry\n"
          ]
        }
      ]
    },
    {
      "cell_type": "code",
      "source": [
        "fruit=[\"apple\",\"banana\",\"cherry\"]\n",
        "for i in range(len(fruit)):\n",
        "  print(fruit)"
      ],
      "metadata": {
        "colab": {
          "base_uri": "https://localhost:8080/"
        },
        "id": "JyaXRWM61uHX",
        "outputId": "bbaface5-a13c-4a11-cdd1-9d5451b66be7"
      },
      "execution_count": null,
      "outputs": [
        {
          "output_type": "stream",
          "name": "stdout",
          "text": [
            "['apple', 'banana', 'cherry']\n",
            "['apple', 'banana', 'cherry']\n",
            "['apple', 'banana', 'cherry']\n"
          ]
        }
      ]
    },
    {
      "cell_type": "markdown",
      "source": [
        "# SORT"
      ],
      "metadata": {
        "id": "3jsy_VV019ZN"
      }
    },
    {
      "cell_type": "code",
      "source": [
        "a=[5,3,6,7,8,1,9,2,0]\n",
        "a.sort() # 무작위로 배열되어 있는 숫자를 작은 순서대로 배열\n",
        "print(a)"
      ],
      "metadata": {
        "colab": {
          "base_uri": "https://localhost:8080/"
        },
        "id": "JkTNgsq91_Xa",
        "outputId": "843512ef-fc27-422d-df71-c0323858adef"
      },
      "execution_count": null,
      "outputs": [
        {
          "output_type": "stream",
          "name": "stdout",
          "text": [
            "[0, 1, 2, 3, 5, 6, 7, 8, 9]\n"
          ]
        }
      ]
    },
    {
      "cell_type": "code",
      "source": [
        "a=[5,3,6,7,8,1,9,2,0,4]\n",
        "a.sort(reverse=True) \n",
        "print(a)\n",
        "a.sort()\n",
        "print(a)"
      ],
      "metadata": {
        "colab": {
          "base_uri": "https://localhost:8080/"
        },
        "id": "D1CAO2Ye2VC3",
        "outputId": "a6f535aa-ed7b-44d3-c978-cb6508a3a92e"
      },
      "execution_count": null,
      "outputs": [
        {
          "output_type": "stream",
          "name": "stdout",
          "text": [
            "[9, 8, 7, 6, 5, 4, 3, 2, 1, 0]\n",
            "[0, 1, 2, 3, 4, 5, 6, 7, 8, 9]\n"
          ]
        }
      ]
    },
    {
      "cell_type": "code",
      "source": [
        "fruit=[\"banana\",\"apple\",\"Kiwi\",\"cherry\",\"Melon\"]\n",
        "fruit.sort() #대문자부터 정렬\n",
        "print(fruit)\n",
        "fruit.sort(key=str.lower) #대소문자 구분 X\n",
        "print(fruit)\n",
        "fruit.reverse() #반대로 정렬\n",
        "print(fruit)"
      ],
      "metadata": {
        "colab": {
          "base_uri": "https://localhost:8080/"
        },
        "id": "8JdHydWg204U",
        "outputId": "452324f6-ad35-4caf-84f4-96c571a3b0ff"
      },
      "execution_count": null,
      "outputs": [
        {
          "output_type": "stream",
          "name": "stdout",
          "text": [
            "['Kiwi', 'Melon', 'apple', 'banana', 'cherry']\n",
            "['apple', 'banana', 'cherry', 'Kiwi', 'Melon']\n",
            "['Melon', 'Kiwi', 'cherry', 'banana', 'apple']\n"
          ]
        }
      ]
    },
    {
      "cell_type": "code",
      "source": [
        "# list 복사\n",
        "fruit=[\"banana\",\"apple\",\"Kiwi\",\"cherry\",\"Melon\"]\n",
        "myList=fruit.copy()\n",
        "print(myList)\n",
        "cpList=list(fruit)\n",
        "print(cpList)"
      ],
      "metadata": {
        "colab": {
          "base_uri": "https://localhost:8080/"
        },
        "id": "NOK90b4f4QIt",
        "outputId": "ebfe610f-6102-4043-e583-1d7ebc0318b1"
      },
      "execution_count": null,
      "outputs": [
        {
          "output_type": "stream",
          "name": "stdout",
          "text": [
            "['banana', 'apple', 'Kiwi', 'cherry', 'Melon']\n",
            "['banana', 'apple', 'Kiwi', 'cherry', 'Melon']\n"
          ]
        }
      ]
    },
    {
      "cell_type": "markdown",
      "source": [
        "# 2. Tuple"
      ],
      "metadata": {
        "id": "96vrraxY5P6v"
      }
    },
    {
      "cell_type": "code",
      "source": [
        "l=[1,2,3]\n",
        "t=(4,5,6)\n",
        "l[0]=5\n",
        "print(l)\n",
        "l[0]=1\n",
        "print(t)"
      ],
      "metadata": {
        "colab": {
          "base_uri": "https://localhost:8080/"
        },
        "id": "fiJYkalA5Y7u",
        "outputId": "4bac66d2-2aad-45d2-a3b8-f8fefab53f83"
      },
      "execution_count": null,
      "outputs": [
        {
          "output_type": "stream",
          "name": "stdout",
          "text": [
            "[5, 2, 3]\n",
            "(4, 5, 6)\n"
          ]
        }
      ]
    },
    {
      "cell_type": "code",
      "source": [
        "f=[\"banana\",\"apple\",\"Kiwi\",\"cherry\",\"Melon\"]\n",
        "print(len(f))"
      ],
      "metadata": {
        "colab": {
          "base_uri": "https://localhost:8080/"
        },
        "id": "Q04HNHNC4lSK",
        "outputId": "a6e0ef2a-a420-43dd-9d21-4664993f6435"
      },
      "execution_count": null,
      "outputs": [
        {
          "output_type": "stream",
          "name": "stdout",
          "text": [
            "5\n"
          ]
        }
      ]
    },
    {
      "cell_type": "code",
      "source": [
        "t=(\"apple\",)\n",
        "print(t)\n",
        "print(type(t))\n",
        "f=(\"melon\") #튜플로 인식하기 위해서는 \",\" 필요\n",
        "print(f)\n",
        "print(type(f))"
      ],
      "metadata": {
        "colab": {
          "base_uri": "https://localhost:8080/"
        },
        "id": "jdxL3Cu06PcP",
        "outputId": "adda0ca6-58cc-4759-fddd-e89ea84a2317"
      },
      "execution_count": null,
      "outputs": [
        {
          "output_type": "stream",
          "name": "stdout",
          "text": [
            "('apple',)\n",
            "<class 'tuple'>\n",
            "melon\n",
            "<class 'str'>\n"
          ]
        }
      ]
    },
    {
      "cell_type": "code",
      "source": [
        "f=[\"banana\",\"apple\",\"Kiwi\",\"cherry\",\"Melon\"]\n",
        "print(f[:4])\n",
        "print(f[2:])"
      ],
      "metadata": {
        "colab": {
          "base_uri": "https://localhost:8080/"
        },
        "id": "7CRfoq_e7YiN",
        "outputId": "37cbe8b5-3342-47f3-c92f-6afa86286a81"
      },
      "execution_count": null,
      "outputs": [
        {
          "output_type": "stream",
          "name": "stdout",
          "text": [
            "['banana', 'apple', 'Kiwi', 'cherry']\n",
            "['Kiwi', 'cherry', 'Melon']\n"
          ]
        }
      ]
    },
    {
      "cell_type": "code",
      "source": [
        "f=[\"banana\",\"apple\",\"Kiwi\",\"cherry\",\"Melon\"]\n",
        "if \"apple\" in f:\n",
        "  print(\"Yes, 'apple' is in\")\n",
        "else:\n",
        "  print(\"No\")"
      ],
      "metadata": {
        "colab": {
          "base_uri": "https://localhost:8080/"
        },
        "id": "b-dzOMDS7yR4",
        "outputId": "d7be754c-53cf-4fff-db4c-12292c9aee2c"
      },
      "execution_count": null,
      "outputs": [
        {
          "output_type": "stream",
          "name": "stdout",
          "text": [
            "Yes, 'apple' is in\n"
          ]
        }
      ]
    },
    {
      "cell_type": "markdown",
      "source": [
        "# list ↔ tuple"
      ],
      "metadata": {
        "id": "4-4CxpfW_5qn"
      }
    },
    {
      "cell_type": "code",
      "source": [
        "firm=['samsung','LG','SK']\n",
        "tdata=tuple(firm)\n",
        "print(firm)\n",
        "print(tdata)"
      ],
      "metadata": {
        "colab": {
          "base_uri": "https://localhost:8080/"
        },
        "id": "v549vtJ3_4nN",
        "outputId": "fba0de87-6f3e-45f2-8899-df3898c6f068"
      },
      "execution_count": null,
      "outputs": [
        {
          "output_type": "stream",
          "name": "stdout",
          "text": [
            "['samsung', 'LG', 'SK']\n",
            "('samsung', 'LG', 'SK')\n"
          ]
        }
      ]
    },
    {
      "cell_type": "code",
      "source": [
        "# tuple에 추가\n",
        "t=[\"banana\",\"apple\",\"Kiwi\",\"cherry\",\"Melon\"]\n",
        "y=list(t)\n",
        "y.append(\"Orange\")\n",
        "t=tuple(y)\n",
        "print(t)"
      ],
      "metadata": {
        "colab": {
          "base_uri": "https://localhost:8080/"
        },
        "id": "Be9IIZKPAZ2d",
        "outputId": "3b7d3120-e3d7-45e9-dbed-cb07f74a9268"
      },
      "execution_count": null,
      "outputs": [
        {
          "output_type": "stream",
          "name": "stdout",
          "text": [
            "('banana', 'apple', 'Kiwi', 'cherry', 'Melon', 'Orange')\n"
          ]
        }
      ]
    },
    {
      "cell_type": "code",
      "source": [
        "t=(\"apple\",\"banana\",\"melon\")\n",
        "q=(\"orange\",) # 값이 하나는 뒤에 , \n",
        "t+=q\n",
        "print(t)"
      ],
      "metadata": {
        "colab": {
          "base_uri": "https://localhost:8080/"
        },
        "id": "EcqBSOalBGYR",
        "outputId": "a9931b8b-6686-4557-9621-3d61ec2bfa10"
      },
      "execution_count": null,
      "outputs": [
        {
          "output_type": "stream",
          "name": "stdout",
          "text": [
            "('apple', 'banana', 'melon', 'orange')\n"
          ]
        }
      ]
    },
    {
      "cell_type": "code",
      "source": [
        "t=('apple','banana','melon','kiwi')\n",
        "l=list(t)\n",
        "l.remove('kiwi')\n",
        "t=tuple(l)\n",
        "print(t)"
      ],
      "metadata": {
        "colab": {
          "base_uri": "https://localhost:8080/"
        },
        "id": "haDz6s3EBiZy",
        "outputId": "e915864d-0553-45b6-eb65-783b6042c618"
      },
      "execution_count": null,
      "outputs": [
        {
          "output_type": "stream",
          "name": "stdout",
          "text": [
            "('apple', 'banana', 'melon')\n"
          ]
        }
      ]
    },
    {
      "cell_type": "markdown",
      "source": [
        "# dict 사전자료형"
      ],
      "metadata": {
        "id": "Rxr9KN72ENGi"
      }
    },
    {
      "cell_type": "code",
      "source": [
        "d={\n",
        "    'a':1,\n",
        "    'b':2,\n",
        "    'c':3,\n",
        "}\n",
        "print(d)\n",
        "print(d.keys())\n",
        "print(d.values())\n",
        "print(d.items())"
      ],
      "metadata": {
        "colab": {
          "base_uri": "https://localhost:8080/"
        },
        "id": "ngHcRVWyEPhg",
        "outputId": "46116f65-c36d-44d7-ee9f-c41489ee9f2a"
      },
      "execution_count": null,
      "outputs": [
        {
          "output_type": "stream",
          "name": "stdout",
          "text": [
            "{'a': 1, 'b': 2, 'c': 3}\n",
            "dict_keys(['a', 'b', 'c'])\n",
            "dict_values([1, 2, 3])\n",
            "dict_items([('a', 1), ('b', 2), ('c', 3)])\n"
          ]
        }
      ]
    },
    {
      "cell_type": "code",
      "source": [
        "car={\n",
        "    \"brand\":\"BMW\",\n",
        "    \"model\":\"GT\",\n",
        "    \"year\":1988\n",
        "}\n",
        "print(car)\n",
        "print(len(car))\n",
        "car[\"year\"]=2000\n",
        "car['item']=312 #있는 것은 값을 바꾸고 없는 것은 추가\n",
        "car.update({\"color\":\"red\"})\n",
        "print(car)"
      ],
      "metadata": {
        "colab": {
          "base_uri": "https://localhost:8080/"
        },
        "id": "IcmSEFiEEz48",
        "outputId": "7392975d-0591-49f8-bfee-c4287a7d2946"
      },
      "execution_count": null,
      "outputs": [
        {
          "output_type": "stream",
          "name": "stdout",
          "text": [
            "{'brand': 'BMW', 'model': 'GT', 'year': 1988}\n",
            "3\n",
            "{'brand': 'BMW', 'model': 'GT', 'year': 2000, 'item': 312, 'color': 'red'}\n"
          ]
        }
      ]
    },
    {
      "cell_type": "code",
      "source": [
        "car={\n",
        "    \"brand\":\"BMW\",\n",
        "    \"model\":\"GT\",\n",
        "    \"year\":1988\n",
        "}\n",
        "car.popitem()\n",
        "print(car)"
      ],
      "metadata": {
        "colab": {
          "base_uri": "https://localhost:8080/"
        },
        "id": "pOoqzdQxHFq5",
        "outputId": "5db037cf-5909-4c6e-fe3d-92a0cd7aa6ac"
      },
      "execution_count": null,
      "outputs": [
        {
          "output_type": "stream",
          "name": "stdout",
          "text": [
            "{'brand': 'BMW', 'model': 'GT'}\n"
          ]
        }
      ]
    },
    {
      "cell_type": "code",
      "source": [
        "car={\n",
        "    \"brand\":\"BMW\",\n",
        "    \"model\":\"GT\",\n",
        "    \"year\":1988\n",
        "}\n",
        "car,clear()\n",
        "del car"
      ],
      "metadata": {
        "id": "gz5gKSIFHQ99"
      },
      "execution_count": null,
      "outputs": []
    },
    {
      "cell_type": "markdown",
      "source": [
        "#loop"
      ],
      "metadata": {
        "id": "sE1qiaEVIZMm"
      }
    },
    {
      "cell_type": "code",
      "source": [],
      "metadata": {
        "id": "u3GqgJF-Ia2v"
      },
      "execution_count": null,
      "outputs": []
    },
    {
      "cell_type": "code",
      "source": [
        "car={\n",
        "    \"brand\":\"BMW\",\n",
        "    \"model\":\"GT\",\n",
        "    \"year\":1988\n",
        "}\n",
        "for x in car.keys():\n",
        "  print(car[x])"
      ],
      "metadata": {
        "colab": {
          "base_uri": "https://localhost:8080/"
        },
        "id": "wNTt_ktrIRqd",
        "outputId": "16867b19-a067-4257-ee63-24a64dfd4b4a"
      },
      "execution_count": null,
      "outputs": [
        {
          "output_type": "stream",
          "name": "stdout",
          "text": [
            "BMW\n",
            "GT\n",
            "1988\n"
          ]
        }
      ]
    },
    {
      "cell_type": "code",
      "source": [
        "car={\n",
        "    \"brand\":\"BMW\",\n",
        "    \"model\":\"GT\",\n",
        "    \"year\":1988\n",
        "}\n",
        "for x in car.values():\n",
        "  print(x)"
      ],
      "metadata": {
        "colab": {
          "base_uri": "https://localhost:8080/"
        },
        "id": "zUPT9ShUIodH",
        "outputId": "3789b029-3d4c-48fc-cdb4-96303525de6c"
      },
      "execution_count": null,
      "outputs": [
        {
          "output_type": "stream",
          "name": "stdout",
          "text": [
            "BMW\n",
            "GT\n",
            "1988\n"
          ]
        }
      ]
    },
    {
      "cell_type": "code",
      "source": [
        "car={\n",
        "    \"brand\":\"BMW\",\n",
        "    \"model\":\"GT\",\n",
        "    \"year\":1988\n",
        "}\n",
        "for x,y in car.items():\n",
        "  print(x,y)"
      ],
      "metadata": {
        "colab": {
          "base_uri": "https://localhost:8080/"
        },
        "id": "u8jaGNT0IsqV",
        "outputId": "49b8ea3f-cec6-4745-bec3-db979d06a072"
      },
      "execution_count": null,
      "outputs": [
        {
          "output_type": "stream",
          "name": "stdout",
          "text": [
            "brand BMW\n",
            "model GT\n",
            "year 1988\n"
          ]
        }
      ]
    },
    {
      "cell_type": "code",
      "source": [
        "car={\n",
        "    \"brand\":\"BMW\",\n",
        "    \"model\":\"GT\",\n",
        "    \"year\":1988\n",
        "}\n",
        "myCar=car.copy()\n",
        "print(myCar)"
      ],
      "metadata": {
        "colab": {
          "base_uri": "https://localhost:8080/"
        },
        "id": "9dLvtN_2Ixuu",
        "outputId": "52210644-0c78-4277-ee01-9a96b52a0583"
      },
      "execution_count": null,
      "outputs": [
        {
          "output_type": "stream",
          "name": "stdout",
          "text": [
            "{'brand': 'BMW', 'model': 'GT', 'year': 1988}\n"
          ]
        }
      ]
    },
    {
      "cell_type": "code",
      "source": [
        "car={\n",
        "    \"brand\":\"BMW\",\n",
        "    \"model\":\"GT\",\n",
        "    \"year\":1988\n",
        "}\n",
        "myCar=dict(car)\n",
        "print(myCar)"
      ],
      "metadata": {
        "colab": {
          "base_uri": "https://localhost:8080/"
        },
        "id": "2zTFBplTJByV",
        "outputId": "c262ed4f-76b9-4114-d15c-4ee7e5097ac9"
      },
      "execution_count": null,
      "outputs": [
        {
          "output_type": "stream",
          "name": "stdout",
          "text": [
            "{'brand': 'BMW', 'model': 'GT', 'year': 1988}\n"
          ]
        }
      ]
    },
    {
      "cell_type": "code",
      "source": [
        "name1={\"name\":\"홍길동\",\"year\":2001}\n",
        "name2={\"name\":\"갑돌이\",\"year\":2010}\n",
        "name3={\"name\":\"갑순이\",\"year\":2003}\n",
        "family={\n",
        "    \"name1\":name1,\n",
        "    \"name2\":name2,\n",
        "    \"name3\":name3\n",
        "        }\n",
        "print(family)"
      ],
      "metadata": {
        "colab": {
          "base_uri": "https://localhost:8080/"
        },
        "id": "FCAqzn1BJa6I",
        "outputId": "58e617a2-0524-4f68-c809-777bcedbc7c7"
      },
      "execution_count": null,
      "outputs": [
        {
          "output_type": "stream",
          "name": "stdout",
          "text": [
            "{'name1': {'name': '홍길동', 'year': 2001}, 'name2': {'name': '갑돌이', 'year': 2010}, 'name3': {'name': '갑순이', 'year': 2003}}\n"
          ]
        }
      ]
    },
    {
      "cell_type": "markdown",
      "source": [
        "## CH4 조건문, 반복문"
      ],
      "metadata": {
        "id": "KS-nTsd3uLa5"
      }
    },
    {
      "cell_type": "markdown",
      "source": [
        "### 중첩 if문"
      ],
      "metadata": {
        "id": "kRBX3qYduRNu"
      }
    },
    {
      "cell_type": "code",
      "source": [
        "score=int(input(\"점수를 입력해 주세요: \"))\n",
        "if (score>100):\n",
        "  print(\"0~100까지의 숫자로 입력하세요\")\n",
        "else:\n",
        "  if (score>=90):\n",
        "   print(\"A\")\n",
        "  elif (score>=80):\n",
        "   print(\"B\")\n",
        "  elif (score>=70):\n",
        "   print(\"C\")\n",
        "  elif (score>=60):\n",
        "   print(\"D\")\n",
        "  else:\n",
        "   print(\"F\")\n",
        "  print(\"학점입니다\")\n"
      ],
      "metadata": {
        "colab": {
          "base_uri": "https://localhost:8080/"
        },
        "id": "k3OKbdMZuPf4",
        "outputId": "747ae709-df33-45dc-b79c-7f18b166d6ce"
      },
      "execution_count": null,
      "outputs": [
        {
          "output_type": "stream",
          "name": "stdout",
          "text": [
            "점수를 입력해 주세요: 89\n",
            "B\n",
            "학점입니다\n"
          ]
        }
      ]
    },
    {
      "cell_type": "code",
      "source": [
        "score=int(input(\"점수를 입력해 주세요: \"))\n",
        "if (score>100):\n",
        "  print(\"0~100까지의 숫자로 입력하세요\")\n",
        "else:\n",
        "  if (score>=90):\n",
        "   print(\"점수: %3d A\"%score)\n",
        "  elif (score>=80):\n",
        "   print(\"B\")\n",
        "  elif (score>=70):\n",
        "   print(\"C\")\n",
        "  elif (score>=60):\n",
        "   print(\"D\")\n",
        "  else:\n",
        "   print(\"F\")\n",
        "  print(\"점수: %3d\"%score)\n"
      ],
      "metadata": {
        "colab": {
          "base_uri": "https://localhost:8080/"
        },
        "id": "vdXHEJktxZ45",
        "outputId": "e615ab7e-b40e-481c-e06b-b9a3bc4c660c"
      },
      "execution_count": null,
      "outputs": [
        {
          "output_type": "stream",
          "name": "stdout",
          "text": [
            "점수를 입력해 주세요: 89\n",
            "B\n",
            "점수:  89\n"
          ]
        }
      ]
    },
    {
      "cell_type": "code",
      "source": [
        "import random\n",
        "\n",
        "numbers=[]\n",
        "for num in range(0,10):\n",
        "  numbers.append(random.randrange(0,10))\n",
        "\n",
        "  print(\"생성된 리스트\", numbers)\n",
        "\n",
        "  for num in range(0,10):\n",
        "    if num not in numbers:\n",
        "      print(\"숫자 %d는 리스트에 없음\" %num)\n",
        "    else:\n",
        "      print(\"숫자 %d는 리스트에 있음음\" %num)"
      ],
      "metadata": {
        "id": "glR7fZwmzkzy"
      },
      "execution_count": null,
      "outputs": []
    },
    {
      "cell_type": "code",
      "source": [
        "select, answer, numStr, num1, num2 = 0,0,\"\",0,0\n",
        "select = int(input(\"1.입력한 수식 계산 2.두수의 합:\"))\n",
        "if select ==1:\n",
        "  numStr = input(\"*** 수식을 입력하세요:\")\n",
        "  answer = eval(numStr) # 1+2, \"string\"+\"str\"\n",
        "  print(\"%s 결과는 %5.1f입니다. \" %(numStr,answer))\n",
        "elif select==2:\n",
        "  num1 = int(input(\"*** 첫번째 숫자를 입력하세요: \"))\n",
        "  num2 = int(input(\"*** 두번째 숫자를 입력하세요: \"))\n",
        "  for i in range(num1,num2+1):\n",
        "    answer = answer+i\n",
        "  print(\"%d+%d는 %d입니다\" %(num1,num2,answer))\n",
        "else:\n",
        "  print(\"1 또는 2만 입력하세요.\")"
      ],
      "metadata": {
        "id": "wTjobnoV5lwG"
      },
      "execution_count": null,
      "outputs": []
    },
    {
      "cell_type": "markdown",
      "source": [
        "#### for & while 반복문"
      ],
      "metadata": {
        "id": "2YEXD4U6-xme"
      }
    },
    {
      "cell_type": "code",
      "source": [
        "for i in range(0,3,1):\n",
        "  print(\"안녕!\")"
      ],
      "metadata": {
        "id": "7xEBsW_z-wTo"
      },
      "execution_count": null,
      "outputs": []
    },
    {
      "cell_type": "code",
      "source": [
        "for i in range[0,3,1]:\n",
        "  print(\"안녕@\")"
      ],
      "metadata": {
        "id": "n1eZ8xzG_L06"
      },
      "execution_count": null,
      "outputs": []
    },
    {
      "cell_type": "code",
      "source": [
        "for i in range(0,3,1):\n",
        "  for j in range(0,5,1):\n",
        "    print(\"i:%d, j:%d\" %(i,j))"
      ],
      "metadata": {
        "id": "YsYme-yYAZQm"
      },
      "execution_count": null,
      "outputs": []
    },
    {
      "cell_type": "code",
      "source": [
        "for i in range(1,4,1):\n",
        "  for j in range(1,3,1):\n",
        "    print(\"i:%d, j:%d\" %(i,j))"
      ],
      "metadata": {
        "colab": {
          "base_uri": "https://localhost:8080/"
        },
        "id": "2Skm0dSTBSLO",
        "outputId": "7a1b955e-1519-4bc4-81ef-5a7997f034bc"
      },
      "execution_count": null,
      "outputs": [
        {
          "output_type": "stream",
          "name": "stdout",
          "text": [
            "i:1, j:1\n",
            "i:1, j:2\n",
            "i:2, j:1\n",
            "i:2, j:2\n",
            "i:3, j:1\n",
            "i:3, j:2\n"
          ]
        }
      ]
    },
    {
      "cell_type": "code",
      "source": [
        "i,j = 0,0\n",
        "for i in range(2,10,1):\n",
        "  for j in range(1,10,1):\n",
        "    print(\" %d x %d = %2d \" %(i,j,i*j), end=\"\")\n",
        "  print(\"\")"
      ],
      "metadata": {
        "colab": {
          "base_uri": "https://localhost:8080/"
        },
        "id": "FS97zjgMBV51",
        "outputId": "1b3db453-35ed-4dea-e977-b8a8c6fd8912"
      },
      "execution_count": null,
      "outputs": [
        {
          "output_type": "stream",
          "name": "stdout",
          "text": [
            " 2 x 1 =  2  2 x 2 =  4  2 x 3 =  6  2 x 4 =  8  2 x 5 = 10  2 x 6 = 12  2 x 7 = 14  2 x 8 = 16  2 x 9 = 18 \n",
            " 3 x 1 =  3  3 x 2 =  6  3 x 3 =  9  3 x 4 = 12  3 x 5 = 15  3 x 6 = 18  3 x 7 = 21  3 x 8 = 24  3 x 9 = 27 \n",
            " 4 x 1 =  4  4 x 2 =  8  4 x 3 = 12  4 x 4 = 16  4 x 5 = 20  4 x 6 = 24  4 x 7 = 28  4 x 8 = 32  4 x 9 = 36 \n",
            " 5 x 1 =  5  5 x 2 = 10  5 x 3 = 15  5 x 4 = 20  5 x 5 = 25  5 x 6 = 30  5 x 7 = 35  5 x 8 = 40  5 x 9 = 45 \n",
            " 6 x 1 =  6  6 x 2 = 12  6 x 3 = 18  6 x 4 = 24  6 x 5 = 30  6 x 6 = 36  6 x 7 = 42  6 x 8 = 48  6 x 9 = 54 \n",
            " 7 x 1 =  7  7 x 2 = 14  7 x 3 = 21  7 x 4 = 28  7 x 5 = 35  7 x 6 = 42  7 x 7 = 49  7 x 8 = 56  7 x 9 = 63 \n",
            " 8 x 1 =  8  8 x 2 = 16  8 x 3 = 24  8 x 4 = 32  8 x 5 = 40  8 x 6 = 48  8 x 7 = 56  8 x 8 = 64  8 x 9 = 72 \n",
            " 9 x 1 =  9  9 x 2 = 18  9 x 3 = 27  9 x 4 = 36  9 x 5 = 45  9 x 6 = 54  9 x 7 = 63  9 x 8 = 72  9 x 9 = 81 \n"
          ]
        }
      ]
    },
    {
      "cell_type": "code",
      "source": [
        "i=0\n",
        "while i<3:\n",
        "  print(\"%d:while문 \" %i)\n",
        "  i=i+1"
      ],
      "metadata": {
        "colab": {
          "base_uri": "https://localhost:8080/"
        },
        "id": "__XeEp5TCZK-",
        "outputId": "e0b317e2-ce09-42d2-eb2c-7667a5d1c9b0"
      },
      "execution_count": null,
      "outputs": [
        {
          "output_type": "stream",
          "name": "stdout",
          "text": [
            "0:while문 \n",
            "1:while문 \n",
            "2:while문 \n"
          ]
        }
      ]
    },
    {
      "cell_type": "code",
      "source": [
        "# Q 1부터 10까지 합을 while문으로\n",
        "i, hap = 0,0\n",
        "i =1\n",
        "while i<11:\n",
        "  hap=hap+i\n",
        "  i=i+1\n",
        "\n",
        "print(\"1부터 10까지의 합: %d\" %hap)"
      ],
      "metadata": {
        "colab": {
          "base_uri": "https://localhost:8080/"
        },
        "id": "6geErVULDLRe",
        "outputId": "01ae2784-cd3a-4534-a82f-48cf95a97e78"
      },
      "execution_count": null,
      "outputs": [
        {
          "output_type": "stream",
          "name": "stdout",
          "text": [
            "1부터 10까지의 합: 55\n"
          ]
        }
      ]
    },
    {
      "cell_type": "code",
      "source": [
        "# Q 1부터 10까지 합을 for문으로\n",
        "i, hap = 0,0\n",
        "for i in range(1,11,1):\n",
        "  hap=hap+i\n",
        "\n",
        "print(\"1부터 10까지의 합: %d\" %hap)"
      ],
      "metadata": {
        "colab": {
          "base_uri": "https://localhost:8080/"
        },
        "id": "FDNCSMR8D1n5",
        "outputId": "ba8002d5-e10c-49fd-a7da-edc993162a0d"
      },
      "execution_count": null,
      "outputs": [
        {
          "output_type": "stream",
          "name": "stdout",
          "text": [
            "1부터 10까지의 합: 55\n"
          ]
        }
      ]
    },
    {
      "cell_type": "code",
      "source": [
        "# while True:\n",
        "print(\"무한루프\", end='')"
      ],
      "metadata": {
        "colab": {
          "base_uri": "https://localhost:8080/"
        },
        "id": "GdXxfyK3EnC6",
        "outputId": "514e97e1-52ca-455d-ede1-80f993f0ee41"
      },
      "execution_count": null,
      "outputs": [
        {
          "output_type": "stream",
          "name": "stdout",
          "text": [
            "무한루프"
          ]
        }
      ]
    },
    {
      "cell_type": "code",
      "source": [
        "#break\n",
        "for i in range(1,100):\n",
        "  print(\"for문 %d 실행\" %i)\n",
        "  break\n",
        "print(\"break 빠짐\")\n"
      ],
      "metadata": {
        "colab": {
          "base_uri": "https://localhost:8080/"
        },
        "id": "SDemXoTTEvIc",
        "outputId": "6386f176-16ea-42de-f498-4e93d4306277"
      },
      "execution_count": null,
      "outputs": [
        {
          "output_type": "stream",
          "name": "stdout",
          "text": [
            "for문 1 실행\n",
            "break 빠짐\n"
          ]
        }
      ]
    },
    {
      "cell_type": "code",
      "source": [
        "hap=0\n",
        "a,b=0,0\n",
        "while True:\n",
        "  a = int(input(\"덧셈 첫번째 수 입력: \"))\n",
        "  if a==0:\n",
        "    break\n",
        "  b = int(input(\"덧셈 두번째 수 입력: \"))\n",
        "  hap=a+b\n",
        "  print(\"%d + %d = %d\" %(a,b,a+b))"
      ],
      "metadata": {
        "colab": {
          "base_uri": "https://localhost:8080/"
        },
        "id": "gK7u_hESFiJ0",
        "outputId": "a9336762-e37d-43e2-e525-49ffaad016c7"
      },
      "execution_count": null,
      "outputs": [
        {
          "name": "stdout",
          "output_type": "stream",
          "text": [
            "덧셈 첫번째 수 입력: 4\n",
            "덧셈 두번째 수 입력: 89\n",
            "4 + 89 = 93\n",
            "덧셈 첫번째 수 입력: 0\n"
          ]
        }
      ]
    },
    {
      "cell_type": "code",
      "source": [
        "#continue\n",
        "hap, i = 0,0\n",
        "for i in range(1,101):\n",
        "  if i % 3 == 0:\n",
        "    continue \n",
        "  hap+=i\n",
        "\n",
        "print(\"1~100 합(3의배수제외): %d\" %hap)"
      ],
      "metadata": {
        "colab": {
          "base_uri": "https://localhost:8080/"
        },
        "id": "JBalLB94GR5_",
        "outputId": "760a9173-112d-483d-9e73-caa5f5d0e836"
      },
      "execution_count": null,
      "outputs": [
        {
          "output_type": "stream",
          "name": "stdout",
          "text": [
            "1~100 합(3의배수제외): 3367\n"
          ]
        }
      ]
    },
    {
      "cell_type": "code",
      "source": [
        "#continue\n",
        "hap, i = 0,0\n",
        "for i in range(1,11):\n",
        "  if i % 2 == 0:\n",
        "    print(\"i:%d\" %i)\n",
        "    continue \n",
        "  hap+=i\n",
        "\n",
        "print(\"1~10 합(2의배수제외): %d\" %hap)"
      ],
      "metadata": {
        "colab": {
          "base_uri": "https://localhost:8080/"
        },
        "id": "AnVw4NLxHK48",
        "outputId": "0b081838-2512-4157-cfb5-d6348d1630c8"
      },
      "execution_count": null,
      "outputs": [
        {
          "output_type": "stream",
          "name": "stdout",
          "text": [
            "i:2\n",
            "i:4\n",
            "i:6\n",
            "i:8\n",
            "i:10\n",
            "1~10 합(2의배수제외): 25\n"
          ]
        }
      ]
    },
    {
      "cell_type": "code",
      "source": [
        "fruits=[\"사과\",\"바나나\",\"체리\"]\n",
        "for x in fruits:\n",
        "  if x ==\"바나나\":\n",
        "    continue\n",
        "  print(x)"
      ],
      "metadata": {
        "colab": {
          "base_uri": "https://localhost:8080/"
        },
        "id": "F20oFH4kILIu",
        "outputId": "db7dee9e-2f6b-489d-d9eb-c4743278978d"
      },
      "execution_count": null,
      "outputs": [
        {
          "output_type": "stream",
          "name": "stdout",
          "text": [
            "사과\n",
            "체리\n"
          ]
        }
      ]
    },
    {
      "cell_type": "code",
      "source": [
        "for x in range(6):\n",
        "  print(x)\n",
        "else:\n",
        "  print(\"끝\")"
      ],
      "metadata": {
        "colab": {
          "base_uri": "https://localhost:8080/"
        },
        "id": "n1UqsnazIp69",
        "outputId": "70284218-b26f-436f-dd01-bf9ea69a75d6"
      },
      "execution_count": null,
      "outputs": [
        {
          "output_type": "stream",
          "name": "stdout",
          "text": [
            "0\n",
            "1\n",
            "2\n",
            "3\n",
            "4\n",
            "5\n",
            "끝\n"
          ]
        }
      ]
    },
    {
      "cell_type": "code",
      "source": [
        "for x in range(6):\n",
        "  if x ==3: break\n",
        "  print(x)\n",
        "else:\n",
        "  print(\"\")"
      ],
      "metadata": {
        "colab": {
          "base_uri": "https://localhost:8080/"
        },
        "id": "DTH2W7okJD7e",
        "outputId": "48ded98c-6737-486e-c295-937302a58729"
      },
      "execution_count": null,
      "outputs": [
        {
          "output_type": "stream",
          "name": "stdout",
          "text": [
            "0\n",
            "1\n",
            "2\n"
          ]
        }
      ]
    },
    {
      "cell_type": "code",
      "source": [
        "for x in [0,1,2]:\n",
        "  pass"
      ],
      "metadata": {
        "id": "MubDzZeZKDJ6"
      },
      "execution_count": null,
      "outputs": []
    },
    {
      "cell_type": "markdown",
      "source": [
        "## 함수"
      ],
      "metadata": {
        "id": "Kc3kLroyLul-"
      }
    },
    {
      "cell_type": "code",
      "source": [
        "#. 두수를 더하는 함수\n",
        "def plus(v1,v2):\n",
        "  result=0\n",
        "  result=v1+v2\n",
        "  return result\n",
        "\n",
        "hap=0\n",
        "hap=plus(10,20)\n",
        "print(\"10+20 plus() 처리 결과는 %d\" %hap)\n",
        "hap=plus(20,30)\n",
        "print(\"20+30 plus() 처리 결과는 %d\" %hap)"
      ],
      "metadata": {
        "id": "L2kqGltQLxzI"
      },
      "execution_count": null,
      "outputs": []
    },
    {
      "cell_type": "code",
      "source": [
        "# 계산기 코드\n",
        "def calc(v1,v2,op):\n",
        "  result = 0\n",
        "  if op == '+':\n",
        "    result = v1+v2\n",
        "  elif op == '-':\n",
        "    result = v1-v2\n",
        "  elif op == '*':\n",
        "    result = v1*v2\n",
        "  elif op == '**':\n",
        "    result = v1**v2\n",
        "  return result\n",
        "\n",
        "rst=0\n",
        "var1, var2, opr =0,0,\"\"\n",
        "opr = input(\"+,-,*,** 입력:\") \n",
        "var1 = int(input(\"1번째 수 입력: \"))\n",
        "var2 = int(input(\"2번째 수 입력: \"))\n",
        "rst = calc(var1,var2,opr)\n",
        "print(\"계산기 %d %s %d = %d\" %(var1,opr,var2,rst))"
      ],
      "metadata": {
        "id": "8mi31tbMM0Y4",
        "colab": {
          "base_uri": "https://localhost:8080/"
        },
        "outputId": "e83362e7-c8a0-4fbc-fc7e-c2499a4bfb86"
      },
      "execution_count": 66,
      "outputs": [
        {
          "output_type": "stream",
          "name": "stdout",
          "text": [
            "+,-,*,** 입력:**\n",
            "1번째 수 입력: 4\n",
            "2번째 수 입력: 7\n",
            "계산기 4 ** 7 = 16384\n"
          ]
        }
      ]
    },
    {
      "cell_type": "markdown",
      "source": [
        "## 과제 0으로 나누려고하면 계산 되지 않게 메세지 출력,\n",
        "## ** 제곱 연산자 추가(숫자1,연산자,숫자2) 계산기함수 만들기 "
      ],
      "metadata": {
        "id": "awH-Dp5VQLN_"
      }
    },
    {
      "cell_type": "markdown",
      "source": [
        "# 전역변수와 지역변수"
      ],
      "metadata": {
        "id": "VPvEMEMNRcy9"
      }
    },
    {
      "cell_type": "code",
      "source": [
        "def func1():\n",
        "  a=10 #지역변수\n",
        "  print(\"func1()에서 a값 %d\" %a)\n",
        "def func2(): \n",
        "  print(\"func2()에서 a값 %d\" %a)\n",
        "\n",
        "a=20 #전역변수\n",
        "func1()\n",
        "func2()"
      ],
      "metadata": {
        "colab": {
          "base_uri": "https://localhost:8080/"
        },
        "id": "QO60iPI5RY-s",
        "outputId": "ef4cc3b5-54e6-4227-fc1c-d403ae150176"
      },
      "execution_count": 67,
      "outputs": [
        {
          "output_type": "stream",
          "name": "stdout",
          "text": [
            "func1()에서 a값 10\n",
            "func2()에서 a값 20\n"
          ]
        }
      ]
    },
    {
      "cell_type": "code",
      "source": [
        "# 계산기 코드\n",
        "def calc(v1,v2,op):\n",
        "  result = 0\n",
        "  if op == '+':\n",
        "    result = v1+v2\n",
        "  elif op == '-':\n",
        "    result = v1-v2\n",
        "  elif op == '*':\n",
        "    result = v1*v2\n",
        "  elif op == '**':\n",
        "    result = v1**v2\n",
        "  elif op == '/':\n",
        "    result = v1/v2\n",
        "  \n",
        "  return result\n",
        "\n",
        "rst=0\n",
        "var1, var2, opr =0,0,\"\"\n",
        "opr = input(\"+,-,*,/,** 입력:\") \n",
        "var1 = int(input(\"1번째 수 입력: \"))\n",
        "var2 = int(input(\"2번째 수 입력: \"))\n",
        "rst = calc(var1,var2,opr)\n",
        "print(\"계산기 %d %s %d = %d\" %(var1,opr,var2,rst))"
      ],
      "metadata": {
        "id": "k-WB1WM6SIbf"
      },
      "execution_count": null,
      "outputs": []
    }
  ]
}