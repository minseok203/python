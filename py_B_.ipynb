{
  "nbformat": 4,
  "nbformat_minor": 0,
  "metadata": {
    "colab": {
      "provenance": [],
      "authorship_tag": "ABX9TyPZxsE1oyDxvwvF7TM1YRYZ",
      "include_colab_link": true
    },
    "kernelspec": {
      "name": "python3",
      "display_name": "Python 3"
    },
    "language_info": {
      "name": "python"
    }
  },
  "cells": [
    {
      "cell_type": "markdown",
      "metadata": {
        "id": "view-in-github",
        "colab_type": "text"
      },
      "source": [
        "<a href=\"https://colab.research.google.com/github/minseok203/python/blob/main/py_B_.ipynb\" target=\"_parent\"><img src=\"https://colab.research.google.com/assets/colab-badge.svg\" alt=\"Open In Colab\"/></a>"
      ]
    },
    {
      "cell_type": "markdown",
      "source": [
        "# **CH1 파이썬 문법**"
      ],
      "metadata": {
        "id": "JNjEp6Rwh5Li"
      }
    },
    {
      "cell_type": "markdown",
      "source": [
        "## 자료형\n",
        "#### 숫자형\n",
        "정수 : 123, -2, 0\\\n",
        "실수 : 123, 45, -432, 6.2e9\\\n",
        "8진수 : 0o456, 0o123 \\\n",
        "16진수 : 0xFF, 0x00 \\\n"
      ],
      "metadata": {
        "id": "GMhw8YKKigx4"
      }
    },
    {
      "cell_type": "code",
      "source": [
        "a=10\n",
        "b=20\n",
        "c=a+b\n",
        "print(c)"
      ],
      "metadata": {
        "colab": {
          "base_uri": "https://localhost:8080/"
        },
        "id": "kM6VXbl1j2_R",
        "outputId": "8889dc07-10b2-4a72-c5c0-029924e44f28"
      },
      "execution_count": 1,
      "outputs": [
        {
          "output_type": "stream",
          "name": "stdout",
          "text": [
            "30\n"
          ]
        }
      ]
    },
    {
      "cell_type": "markdown",
      "source": [
        "#### 변수\n",
        "* 문자 또는 밑줄로 시작 (beta, _kim)\n",
        "* 대소문자를 구분한다 (sum, Sum, SUM) → 다 다르게 인식\n",
        "* 영문자,숫자,밑줄 (A-z,0-9,_)\n",
        "* 파이썬 키워드는 사용불가 \n"
      ],
      "metadata": {
        "id": "btAzHbBIoZXD"
      }
    },
    {
      "cell_type": "code",
      "source": [
        "a=10\n",
        "b=4\n",
        "c=a/b #나눗셈\n",
        "d=a//b #몫\n",
        "e=a%b #나머지\n",
        "f=a*b #곱셈\n",
        "g=a**b #제곱\n",
        "print(c,d,e,f,g)"
      ],
      "metadata": {
        "colab": {
          "base_uri": "https://localhost:8080/"
        },
        "id": "Bp59joM1k0XH",
        "outputId": "dc3fadaf-b7bd-4e14-a881-05bc650e76d4"
      },
      "execution_count": 5,
      "outputs": [
        {
          "output_type": "stream",
          "name": "stdout",
          "text": [
            "2.5 2 2 40 10000\n"
          ]
        }
      ]
    },
    {
      "cell_type": "markdown",
      "source": [
        "#### 문자열 \n",
        "1. 큰 따옴표 : \"Hello World!\"\n",
        "2. 작은 따옴표 : '대한민국'\n",
        "3. 큰 따옴표 3개 : \"\"\"Hello!\"\"\"\n",
        "4. 작은 따옴표 3개 : ''' Life is too short, You need python'''\n"
      ],
      "metadata": {
        "id": "RjvswYzSnA6R"
      }
    },
    {
      "cell_type": "code",
      "source": [
        "myName = \"Minseok Kong\" #카멜\n",
        "my_name = \"공민석\" #스네이크\n",
        "MyName = \"kiki\" #파스칼\n",
        "_my_name = \"korea\"\n",
        "MYNAME = \"God is love\"\n",
        "my2name = \"12345\"\n",
        "#2myname = \"9876\" X\n",
        "#my-name = \"9876\" X\n",
        "#my name = \"9876\" X\n",
        "myStr = '123' #str\n",
        "myNum = 123 # int \n",
        "print(myStr, myNum)\n",
        "print(type(myStr))\n",
        "print(type(myNum))"
      ],
      "metadata": {
        "colab": {
          "base_uri": "https://localhost:8080/"
        },
        "id": "Fc52jtbWoEE5",
        "outputId": "08ca7a56-4429-4a1b-ac6d-65ddd49ea8a6"
      },
      "execution_count": 8,
      "outputs": [
        {
          "output_type": "stream",
          "name": "stdout",
          "text": [
            "123 123\n",
            "<class 'str'>\n",
            "<class 'int'>\n"
          ]
        }
      ]
    },
    {
      "cell_type": "code",
      "source": [
        "x,y,z = \"포도\", \"딸기\", \"수박\"\n",
        "print(x)\n",
        "print(y)\n",
        "print(z)"
      ],
      "metadata": {
        "colab": {
          "base_uri": "https://localhost:8080/"
        },
        "id": "e1y6gpqFwMlh",
        "outputId": "1ae22097-24a8-4118-bd05-2671274089dc"
      },
      "execution_count": 9,
      "outputs": [
        {
          "output_type": "stream",
          "name": "stdout",
          "text": [
            "포도\n",
            "딸기\n",
            "수박\n"
          ]
        }
      ]
    },
    {
      "cell_type": "code",
      "source": [
        "a=b=c = \"오렌지\"\n",
        "print(a)\n",
        "print(b)\n",
        "print(c)"
      ],
      "metadata": {
        "colab": {
          "base_uri": "https://localhost:8080/"
        },
        "id": "je099aqNwa6h",
        "outputId": "17fc55fa-f82a-4d06-96b9-f62b87108850"
      },
      "execution_count": 12,
      "outputs": [
        {
          "output_type": "stream",
          "name": "stdout",
          "text": [
            "오렌지\n",
            "오렌지\n",
            "오렌지\n"
          ]
        }
      ]
    },
    {
      "cell_type": "code",
      "source": [
        "friuts = [\"포도\", \"딸기\", \"수박\"]\n",
        "x,y,z = friuts\n",
        "print(x)\n",
        "print(y)\n",
        "print(z)"
      ],
      "metadata": {
        "colab": {
          "base_uri": "https://localhost:8080/"
        },
        "id": "WK_evnebw8jb",
        "outputId": "8c292025-525b-488a-f959-a7815b940939"
      },
      "execution_count": 15,
      "outputs": [
        {
          "output_type": "stream",
          "name": "stdout",
          "text": [
            "포도\n",
            "딸기\n",
            "수박\n"
          ]
        }
      ]
    },
    {
      "cell_type": "code",
      "source": [
        "x = \"Life\"\n",
        "y = \"is\"\n",
        "z = \"Beautiful\"\n",
        "print(x,y,z)\n",
        "print(x+y+z)"
      ],
      "metadata": {
        "colab": {
          "base_uri": "https://localhost:8080/"
        },
        "id": "XZciwGfRx2mE",
        "outputId": "6d2febd9-315f-43e5-d056-3a0980a05ba8"
      },
      "execution_count": 16,
      "outputs": [
        {
          "output_type": "stream",
          "name": "stdout",
          "text": [
            "Life is Beautiful\n",
            "LifeisBeautiful\n"
          ]
        }
      ]
    },
    {
      "cell_type": "code",
      "source": [
        "a=1\n",
        "b=2\n",
        "c=3\n",
        "print(a,b,c)\n",
        "print(a+b+c)"
      ],
      "metadata": {
        "colab": {
          "base_uri": "https://localhost:8080/"
        },
        "id": "5nYU8csFyLhA",
        "outputId": "b73bcfc3-b7e8-4c1c-97da-d58de358ba5d"
      },
      "execution_count": 17,
      "outputs": [
        {
          "output_type": "stream",
          "name": "stdout",
          "text": [
            "1 2 3\n",
            "6\n"
          ]
        }
      ]
    },
    {
      "cell_type": "markdown",
      "source": [
        "#### 데이터 유형\n",
        "* 텍스트\n",
        "* 숫자\n",
        "* 불(bool)"
      ],
      "metadata": {
        "id": "NaYGe020ypuy"
      }
    },
    {
      "cell_type": "code",
      "source": [
        "a=100\n",
        "b=200\n",
        "sum = a+b\n",
        "c=a-b\n",
        "d=a*b\n",
        "e=a/b\n",
        "print(a,\"+\", b, \"=\", sum)\n",
        "print(a, \"-\", b, \"=\", c)\n",
        "print(a, \"*\", b, \"=\", d)\n",
        "print(a, \"/\", b, \"=\", e)"
      ],
      "metadata": {
        "colab": {
          "base_uri": "https://localhost:8080/"
        },
        "id": "-OK-seudzNJJ",
        "outputId": "17fbf04a-421a-42fd-dddc-e384c49089bc"
      },
      "execution_count": 21,
      "outputs": [
        {
          "output_type": "stream",
          "name": "stdout",
          "text": [
            "100 + 200 = 300\n",
            "100 - 200 = -100\n",
            "100 * 200 = 20000\n",
            "100 / 200 = 0.5\n"
          ]
        }
      ]
    }
  ]
}